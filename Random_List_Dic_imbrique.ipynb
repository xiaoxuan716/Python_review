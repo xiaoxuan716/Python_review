{
  "nbformat": 4,
  "nbformat_minor": 0,
  "metadata": {
    "colab": {
      "name": "Random_List_Dic imbrique.ipynb",
      "provenance": [],
      "collapsed_sections": [],
      "authorship_tag": "ABX9TyPvWIEcsCaIWUcOU7PV/cmt",
      "include_colab_link": true
    },
    "kernelspec": {
      "name": "python3",
      "display_name": "Python 3"
    }
  },
  "cells": [
    {
      "cell_type": "markdown",
      "metadata": {
        "id": "view-in-github",
        "colab_type": "text"
      },
      "source": [
        "<a href=\"https://colab.research.google.com/github/xiaoxuan716/Python_review/blob/main/Random_List_Dic_imbrique.ipynb\" target=\"_parent\"><img src=\"https://colab.research.google.com/assets/colab-badge.svg\" alt=\"Open In Colab\"/></a>"
      ]
    },
    {
      "cell_type": "markdown",
      "metadata": {
        "id": "Z4INpaY77rka"
      },
      "source": [
        "**1. RANDOM**\r\n",
        "\r\n",
        "**2. Structures Imbriquees**"
      ]
    },
    {
      "cell_type": "markdown",
      "metadata": {
        "id": "QQt6iQNI8gIE"
      },
      "source": [
        "random 挑选数字 在某个范围内"
      ]
    },
    {
      "cell_type": "code",
      "metadata": {
        "colab": {
          "base_uri": "https://localhost:8080/"
        },
        "id": "qaAlbOjy7w00",
        "outputId": "c0d487e9-bb7c-4266-f2e6-15170ae4434a"
      },
      "source": [
        "import random as rnd\r\n",
        "\r\n",
        "# générer un nombre aléatoire entre 1 et 20\r\n",
        "entier_aleatoire = rnd.randrange(1, 21)\r\n",
        "\r\n",
        "print(entier_aleatoire)"
      ],
      "execution_count": 1,
      "outputs": [
        {
          "output_type": "stream",
          "text": [
            "9\n"
          ],
          "name": "stdout"
        }
      ]
    },
    {
      "cell_type": "code",
      "metadata": {
        "colab": {
          "base_uri": "https://localhost:8080/"
        },
        "id": "M6c5FDh774XE",
        "outputId": "a19efb8f-6fb2-4fbd-eeb2-074728b79ca1"
      },
      "source": [
        "# 另外一种 way to use module   ： import une fonction/variable particular from library\r\n",
        "from random import randrange\r\n",
        "entier_aleatoire = randrange(1, 21)\r\n",
        "\r\n",
        "print(entier_aleatoire)"
      ],
      "execution_count": 2,
      "outputs": [
        {
          "output_type": "stream",
          "text": [
            "1\n"
          ],
          "name": "stdout"
        }
      ]
    },
    {
      "cell_type": "code",
      "metadata": {
        "colab": {
          "base_uri": "https://localhost:8080/"
        },
        "id": "VkGf92wA8Jz2",
        "outputId": "a40f0e6f-38c5-484f-fe73-bf72e8b8906a"
      },
      "source": [
        "# renvoie un nombre décimal aléatoire entre (a, b); en incluant b.\r\n",
        "decimal_aleatoire = rnd.uniform(5, 10)\r\n",
        "print(decimal_aleatoire)"
      ],
      "execution_count": 3,
      "outputs": [
        {
          "output_type": "stream",
          "text": [
            "1\n",
            "7.454470071715106\n"
          ],
          "name": "stdout"
        }
      ]
    },
    {
      "cell_type": "markdown",
      "metadata": {
        "id": "4EIv3A4i8bz0"
      },
      "source": [
        "**挑选 SAMPLE  抽样**"
      ]
    },
    {
      "cell_type": "code",
      "metadata": {
        "colab": {
          "base_uri": "https://localhost:8080/"
        },
        "id": "G2qM_e608Veh",
        "outputId": "0a0047bc-aa3b-4a9a-dcc9-8c7266511d71"
      },
      "source": [
        "liste_notes = [73.10,68.66,75.38,85.77,71.78,59.09,63.40,63.87,65.08, \\\r\n",
        "               75.05,76.94,81.61,72.65,68.22,84.35,79.97,76.52,81.52,73.83]\r\n",
        "\r\n",
        "# renvoie une liste d'éléments uniques de longueur déterminée à partir d'une population.\r\n",
        "# échantillonnage aléatoire ***sans remplacement***.\r\n",
        "print(rnd.sample(liste_notes, 5))"
      ],
      "execution_count": 5,
      "outputs": [
        {
          "output_type": "stream",
          "text": [
            "[75.05, 75.38, 81.61, 76.94, 79.97]\n"
          ],
          "name": "stdout"
        }
      ]
    },
    {
      "cell_type": "code",
      "metadata": {
        "colab": {
          "base_uri": "https://localhost:8080/"
        },
        "id": "s8jt2cqH8qZV",
        "outputId": "f85ded08-65f4-4069-abe1-894ea3ea4228"
      },
      "source": [
        "# échantillonnage aléatoire ***sans remplacement*** à partir d'une plage de valeurs\r\n",
        "# générée automatiquement.\r\n",
        "# range(a, b) exclus b.\r\n",
        "print(rnd.sample(range(-20, 50), 10))\r\n",
        "\r\n",
        "# range(a) suppose une plage entre 0 et a\r\n",
        "print(rnd.sample(range(50), 10))"
      ],
      "execution_count": 7,
      "outputs": [
        {
          "output_type": "stream",
          "text": [
            "[-5, 11, 15, -20, 23, 12, 35, 45, -4, 25]\n",
            "[4, 45, 34, 14, 10, 28, 35, 42, 40, 0]\n"
          ],
          "name": "stdout"
        }
      ]
    },
    {
      "cell_type": "markdown",
      "metadata": {
        "id": "pjuzFITZ-Fcb"
      },
      "source": [
        "Structure Imbrique\r\n",
        "**1.   List de dict**\r\n",
        "\r\n",
        "可以直接读取： \r\n",
        "\r\n",
        "\r\n",
        "for item in cat_liste:\r\n",
        "\r\n",
        "    print(\"Produit {0} - {1} : {2} $\".format(item['no_prod'], item['description'], item['prix_unit']))"
      ]
    },
    {
      "cell_type": "code",
      "metadata": {
        "colab": {
          "base_uri": "https://localhost:8080/"
        },
        "id": "vUvmnqYO-HwG",
        "outputId": "6d2147e4-e5ee-4596-dc68-7e9c5ab6e555"
      },
      "source": [
        "cat_liste = [\r\n",
        "    { 'no_prod' : 'AX1125',\r\n",
        "      'description' : 'Câble coax',\r\n",
        "      'prix_unit' : 4.55,\r\n",
        "    },\r\n",
        "    { 'no_prod' : 'AX1205',\r\n",
        "      'description' : 'Câble RJ45 Cat5',\r\n",
        "      'prix_unit' : 6.78,\r\n",
        "    },\r\n",
        "    { 'no_prod' : 'AX1206',\r\n",
        "      'description' : 'Câble RJ45 Cat6',\r\n",
        "      'prix_unit' : 10.78,\r\n",
        "    },\r\n",
        "]\r\n",
        "\r\n",
        "cat_liste"
      ],
      "execution_count": 9,
      "outputs": [
        {
          "output_type": "execute_result",
          "data": {
            "text/plain": [
              "[{'description': 'Câble coax', 'no_prod': 'AX1125', 'prix_unit': 4.55},\n",
              " {'description': 'Câble RJ45 Cat5', 'no_prod': 'AX1205', 'prix_unit': 6.78},\n",
              " {'description': 'Câble RJ45 Cat6', 'no_prod': 'AX1206', 'prix_unit': 10.78}]"
            ]
          },
          "metadata": {
            "tags": []
          },
          "execution_count": 9
        }
      ]
    },
    {
      "cell_type": "code",
      "metadata": {
        "colab": {
          "base_uri": "https://localhost:8080/"
        },
        "id": "G3koudIY-MB_",
        "outputId": "6250a67d-2b91-4623-89b9-bc56178cceb1"
      },
      "source": [
        "#Nombre d'éléments dans le catalogue\r\n",
        "print(len(cat_liste))\r\n",
        "\r\n",
        "print('\\n')\r\n",
        "\r\n",
        "#Le 2e élément du catalogue\r\n",
        "print(cat_liste[1])"
      ],
      "execution_count": 10,
      "outputs": [
        {
          "output_type": "stream",
          "text": [
            "3\n",
            "\n",
            "\n",
            "{'no_prod': 'AX1205', 'description': 'Câble RJ45 Cat5', 'prix_unit': 6.78}\n"
          ],
          "name": "stdout"
        }
      ]
    },
    {
      "cell_type": "code",
      "metadata": {
        "colab": {
          "base_uri": "https://localhost:8080/"
        },
        "id": "OEJQnkiP-PiC",
        "outputId": "b37dbdc3-54d3-43af-d977-ab8781a4e4c5"
      },
      "source": [
        "# nous parcourons la liste 'cat_liste', en extrayant un dictionnaire 'item' à la fois\r\n",
        "for item in cat_liste:\r\n",
        "    # considérant le dictionnaire 'item', pour la clé 'no_prod', donne moi sa valeur, etc. \r\n",
        "    print(\"Produit {0} - {1} : {2} $\".format(item['no_prod'], item['description'], item['prix_unit']))"
      ],
      "execution_count": 11,
      "outputs": [
        {
          "output_type": "stream",
          "text": [
            "Produit AX1125 - Câble coax : 4.55 $\n",
            "Produit AX1205 - Câble RJ45 Cat5 : 6.78 $\n",
            "Produit AX1206 - Câble RJ45 Cat6 : 10.78 $\n"
          ],
          "name": "stdout"
        }
      ]
    },
    {
      "cell_type": "markdown",
      "metadata": {
        "id": "S6MilGJO-nDd"
      },
      "source": [
        "**Create a function to find item**"
      ]
    },
    {
      "cell_type": "code",
      "metadata": {
        "colab": {
          "base_uri": "https://localhost:8080/"
        },
        "id": "diSrBKin-XnZ",
        "outputId": "07837281-bb9c-4489-bf46-23307ca48c55"
      },
      "source": [
        "prod = input(\"Indiquez le numéro du produit recherché: \")\r\n",
        "trouvé = False\r\n",
        "\r\n",
        "for item in cat_liste:\r\n",
        "    if (prod == item['no_prod']):\r\n",
        "        print(\"Produit {0} - {1} : {2} $\".format(item['no_prod'], item['description'], item['prix_unit']))\r\n",
        "        trouvé = True\r\n",
        "        \r\n",
        "        # une fois que nous avons trouvé le numéro de produit recherché, quittez l'itération\r\n",
        "        break\r\n",
        "        \r\n",
        "# si nous avons parcouru la liste complète des produits et que nous n'avons pas trouvé le numéro de produit\r\n",
        "# souhaité, imprimez un message convivial\r\n",
        "if not trouvé:\r\n",
        "     print(\"Produit {0} introuvable\".format(prod))"
      ],
      "execution_count": 12,
      "outputs": [
        {
          "output_type": "stream",
          "text": [
            "Indiquez le numéro du produit recherché: AX1125\n",
            "Produit AX1125 - Câble coax : 4.55 $\n"
          ],
          "name": "stdout"
        }
      ]
    },
    {
      "cell_type": "markdown",
      "metadata": {
        "id": "GszwPBNO-uz9"
      },
      "source": [
        "**2.   Dict de Dict**\r\n",
        "\r\n",
        "读取时 需要 套着最外面的data\r\n",
        " \r\n",
        "for item in cat_dict:\r\n",
        "    \r\n",
        "    # cat_dict[item] : c'est un dictionnaire lui-même\r\n",
        "    print(\"Produit {0} - {1} : {2} $\".format(cat_dict[item]['no_prod'], cat_dict[item]['description'], \\\r\n",
        "                                             cat_dict[item]['prix_unit']))\r\n",
        "\r\n"
      ]
    },
    {
      "cell_type": "code",
      "metadata": {
        "colab": {
          "base_uri": "https://localhost:8080/"
        },
        "id": "8AJdlEPi-x8o",
        "outputId": "03af75a0-5c60-4d56-eb12-a41f62ec0993"
      },
      "source": [
        "cat_dict = {\r\n",
        "    'AX1125' : { 'no_prod' : 'AX1125',\r\n",
        "      'description' : 'Câble coax',\r\n",
        "      'prix_unit' : 4.55,\r\n",
        "    },\r\n",
        "    'AX1205' : { 'no_prod' : 'AX1205',\r\n",
        "      'description' : 'Câble RJ45 Cat5',\r\n",
        "      'prix_unit' : 6.78,\r\n",
        "    },\r\n",
        "    'AX1206' : { 'no_prod' : 'AX1206',\r\n",
        "      'description' : 'Câble RJ45 Cat6',\r\n",
        "      'prix_unit' : 10.78,\r\n",
        "    },\r\n",
        "}\r\n",
        "\r\n",
        "cat_dict"
      ],
      "execution_count": 14,
      "outputs": [
        {
          "output_type": "execute_result",
          "data": {
            "text/plain": [
              "{'AX1125': {'description': 'Câble coax',\n",
              "  'no_prod': 'AX1125',\n",
              "  'prix_unit': 4.55},\n",
              " 'AX1205': {'description': 'Câble RJ45 Cat5',\n",
              "  'no_prod': 'AX1205',\n",
              "  'prix_unit': 6.78},\n",
              " 'AX1206': {'description': 'Câble RJ45 Cat6',\n",
              "  'no_prod': 'AX1206',\n",
              "  'prix_unit': 10.78}}"
            ]
          },
          "metadata": {
            "tags": []
          },
          "execution_count": 14
        }
      ]
    },
    {
      "cell_type": "code",
      "metadata": {
        "colab": {
          "base_uri": "https://localhost:8080/"
        },
        "id": "6GM0jOnv-1as",
        "outputId": "5ec4d549-34d0-4cc7-f21f-2a897efe5937"
      },
      "source": [
        "#Nombre d'éléments dans le catalogue\r\n",
        "print(len(cat_dict))\r\n",
        "\r\n",
        "print('\\n')\r\n",
        "\r\n",
        "#Le 2e élément du catalogue  用key读取 ， list用index读取\r\n",
        "print(cat_dict['AX1205'])"
      ],
      "execution_count": 15,
      "outputs": [
        {
          "output_type": "stream",
          "text": [
            "3\n",
            "\n",
            "\n",
            "{'no_prod': 'AX1205', 'description': 'Câble RJ45 Cat5', 'prix_unit': 6.78}\n"
          ],
          "name": "stdout"
        }
      ]
    },
    {
      "cell_type": "code",
      "metadata": {
        "colab": {
          "base_uri": "https://localhost:8080/"
        },
        "id": "vHhpBAuq-8t4",
        "outputId": "8400c899-4191-408f-c5f9-4e9bc4a3c288"
      },
      "source": [
        "# nous parcourons le dictionnaire 'cat_dict', en extrayant un dictionnaire 'item' à la fois\r\n",
        "for item in cat_dict:\r\n",
        "    \r\n",
        "    # cat_dict[item] : c'est un dictionnaire lui-même\r\n",
        "    print(\"Produit {0} - {1} : {2} $\".format(cat_dict[item]['no_prod'], cat_dict[item]['description'], \\\r\n",
        "                                             cat_dict[item]['prix_unit']))"
      ],
      "execution_count": 16,
      "outputs": [
        {
          "output_type": "stream",
          "text": [
            "Produit AX1125 - Câble coax : 4.55 $\n",
            "Produit AX1205 - Câble RJ45 Cat5 : 6.78 $\n",
            "Produit AX1206 - Câble RJ45 Cat6 : 10.78 $\n"
          ],
          "name": "stdout"
        }
      ]
    },
    {
      "cell_type": "code",
      "metadata": {
        "colab": {
          "base_uri": "https://localhost:8080/"
        },
        "id": "ys4uoi47_TDA",
        "outputId": "c50aaa7e-b0ca-4a66-b7eb-37396e4bb50a"
      },
      "source": [
        "prod = input(\"Indiquez le numéro du produit recherché: \")\r\n",
        "\r\n",
        "# 'prod' : la clé d'un produit contenu dans cat_dict\r\n",
        "# si get(prod) renvoie une valeur, cela signifie que le produit recherché a été trouvé dans cat_dict\r\n",
        "# != signifie pas égal\r\n",
        "if (cat_dict.get(prod) != None):\r\n",
        "    \r\n",
        "    # \r\n",
        "    print(\"Produit {0} - {1} : {2} $\".format(cat_dict[prod]['no_prod'], cat_dict[prod]['description'], \\\r\n",
        "                                             cat_dict[prod]['prix_unit']))\r\n",
        "else:\r\n",
        "    print(\"Produit {0} introuvable\".format(prod))"
      ],
      "execution_count": 17,
      "outputs": [
        {
          "output_type": "stream",
          "text": [
            "Indiquez le numéro du produit recherché: sss\n",
            "Produit sss introuvable\n"
          ],
          "name": "stdout"
        }
      ]
    }
  ]
}