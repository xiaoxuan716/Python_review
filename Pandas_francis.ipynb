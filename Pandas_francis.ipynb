{
  "nbformat": 4,
  "nbformat_minor": 0,
  "metadata": {
    "colab": {
      "name": "Pandas.ipynb",
      "provenance": [],
      "collapsed_sections": [],
      "authorship_tag": "ABX9TyPqFHRd41evw6hKdR8YOf8N",
      "include_colab_link": true
    },
    "kernelspec": {
      "name": "python3",
      "display_name": "Python 3"
    }
  },
  "cells": [
    {
      "cell_type": "markdown",
      "metadata": {
        "id": "view-in-github",
        "colab_type": "text"
      },
      "source": [
        "<a href=\"https://colab.research.google.com/github/xiaoxuan716/Python_review/blob/main/Pandas_francis.ipynb\" target=\"_parent\"><img src=\"https://colab.research.google.com/assets/colab-badge.svg\" alt=\"Open In Colab\"/></a>"
      ]
    },
    {
      "cell_type": "markdown",
      "metadata": {
        "id": "8Kz5VTHOVr4h"
      },
      "source": [
        "0.  **PrettyTable**\r\n",
        "   : from prettytable import PrettyTable\r\n",
        "\r\n",
        "    **Seaborn 2**\r\n",
        "\r\n",
        "\r\n",
        "1.   import pandas\r\n",
        "\r\n",
        "df_purchases = pandas.**read_csv**(\"AW_PurchasingData.csv\", sep=\";\")\r\n",
        "\r\n",
        "(head=None) 代表没有表头\r\n",
        "\r\n",
        "cata = pd.read_csv(\"catalogue.tsv\",sep='\\t')\r\n",
        "\r\n",
        "\r\n",
        "2.  pandas.options.display.float_format = '{:.2f}'.format \r\n",
        "\r\n",
        "让所有数据都以**2位数展示**\r\n",
        "\r\n",
        "\r\n",
        "3.  vérifions le type de données des colonnes importées\r\n",
        "print(df_purchases.dtypes)\r\n",
        "\r\n",
        "4.  **数据转换**\r\n",
        "\r\n",
        "df_purchases[\"ShipDate\"] = pandas.to_datetime(df_purchases[\"ShipDate\"])\r\n",
        "\r\n",
        "to_numerical\r\n",
        "\r\n",
        "df1[\"product_id\"]=df1[\"product_id\"].apply(str)\r\n",
        "\r\n",
        "5.   **时间数据**： \r\n",
        "\r\n",
        "df_purchases['Quarter'] = df_purchases['OrderDate'].dt.quarter\r\n",
        "\r\n",
        "6.  ** Def & apply **根据数据==多少 来重新命名数据名称 ex. 1 ==> janvier"
      ]
    },
    {
      "cell_type": "markdown",
      "metadata": {
        "id": "NrAjQINbzX38"
      },
      "source": [
        "\r\n",
        "Le __profilage des données__ est toujours crucial en intelligence d'affaires, donc ces méthodes nous aident à mieux comprendre nos données.\r\n",
        "- `dtypes` retourne le type de chaque colonne (série) du DataFrame.\r\n",
        "- `index` permet de voir la structure de l'index du DataFrame.\r\n",
        "- `size` vous donne le nombre d'observations.\r\n",
        "- `columns` vour permet de voir les colonnes de votre DataFrame.\r\n",
        "- `head` et `tail` permettent de voir les premières ou les dernières observations du DataFrame."
      ]
    },
    {
      "cell_type": "markdown",
      "metadata": {
        "id": "YTzY34WC40G8"
      },
      "source": [
        "### Filtrage des données lors de la sélection\r\n",
        "\r\n",
        "==========================\r\n",
        "\r\n",
        "**cond**=df_product[\"product_name\"] == \"Twix\"\r\n",
        "\r\n",
        "返回 True  False\r\n",
        "\r\n",
        "\r\n",
        "df[cond] ===> **返回所有符合filter的值**"
      ]
    },
    {
      "cell_type": "markdown",
      "metadata": {
        "id": "Mf_WbTKh5I1e"
      },
      "source": [
        "### Joindre les tables\r\n",
        "\r\n",
        "full = df1.join(df2.set_index(\"product_id\"), on=\"product_id\")\r\n"
      ]
    },
    {
      "cell_type": "markdown",
      "metadata": {
        "id": "1Jvnqcpt5qY8"
      },
      "source": [
        "### Fill NA\r\n",
        "df_product[\"category\"] = df_product[\"category\"].fillna(\"N.D.\")\r\n",
        "\r\n"
      ]
    },
    {
      "cell_type": "markdown",
      "metadata": {
        "id": "57jXZewl564D"
      },
      "source": [
        "### Meilleures ventes\r\n",
        "- Afficher les Premiers & les derniers\r\n",
        " \r\n",
        "df_sales_by_product.nlargest(10, columns=[\"line_total\"])\r\n",
        "\r\n",
        "\r\n",
        "df_sales_by_product.nsmallest(5, columns=[\"line_total\"])\r\n"
      ]
    },
    {
      "cell_type": "code",
      "metadata": {
        "id": "bV-BjJTUzkwa"
      },
      "source": [
        "# print(\"\\nNombre d'observations: {0}\\n\".format(df_sales.size))\r\n",
        "# Nombre d'observations: 110\r\n",
        "print(\"df_product: {0}\".format(df_product.size))\r\n",
        "\r\n",
        "\r\n",
        "# voir la liste des colonnes... approche fancy\r\n",
        "for column in df_sales.columns:\r\n",
        "    print(\"Colonne du DataFrame: {0}\".format(column))\r\n",
        "\r\n",
        "#Colonne du DataFrame: salesorderdetail_id\r\n",
        "#Colonne du DataFrame: product_id\r\n"
      ],
      "execution_count": null,
      "outputs": []
    },
    {
      "cell_type": "markdown",
      "metadata": {
        "id": "v7A8CH_Ez2IE"
      },
      "source": [
        "### sélection d'une colonne (ou une serie)\r\n",
        "df_product[\"product_name\"]\r\n",
        "\r\n",
        "### Selection d'un DataFrame\r\n",
        "df_product[[\"product_name\"]]\r\n"
      ]
    },
    {
      "cell_type": "markdown",
      "metadata": {
        "id": "3ucLEt6n0EGk"
      },
      "source": [
        "- La méthode `iloc` permet de demander de sélectionner des données __basées sur l'index__. Par défaut, pandas nous a créé un index qui correspond à chacune des observations (lignes) du DataFrame, exactement comme un index de liste.\r\n",
        "- Encore une fois, si ici **on voulait avoir un DataFrame plutôt qu'une `Series` **retournée, **on mettrait deux crochets** comme dans l'exemple ci-dessus (`df_product.iloc[[2]]`)."
      ]
    },
    {
      "cell_type": "code",
      "metadata": {
        "colab": {
          "resources": {
            "http://localhost:8080/nbextensions/google.colab/files.js": {
              "data": "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",
              "ok": true,
              "headers": [
                [
                  "content-type",
                  "application/javascript"
                ]
              ],
              "status": 200,
              "status_text": ""
            }
          },
          "base_uri": "https://localhost:8080/",
          "height": 358
        },
        "id": "DNcySjMFW5ob",
        "outputId": "9db12e15-ed84-4af2-8da3-1be5b255200d"
      },
      "source": [
        "import pandas as pd\r\n",
        "import seaborn as sns\r\n",
        "import matplotlib.pyplot as plt\r\n",
        "\r\n",
        "from google.colab import files\r\n",
        "import io \r\n",
        "uploaded = files.upload()\r\n",
        "df = pd.read_csv('AW_PurchasingData.csv', sep=\";\",header=[0])\r\n",
        "df.head()"
      ],
      "execution_count": 11,
      "outputs": [
        {
          "output_type": "display_data",
          "data": {
            "text/html": [
              "\n",
              "     <input type=\"file\" id=\"files-20f5a965-b9fe-414e-837b-2520c3a20e09\" name=\"files[]\" multiple disabled\n",
              "        style=\"border:none\" />\n",
              "     <output id=\"result-20f5a965-b9fe-414e-837b-2520c3a20e09\">\n",
              "      Upload widget is only available when the cell has been executed in the\n",
              "      current browser session. Please rerun this cell to enable.\n",
              "      </output>\n",
              "      <script src=\"/nbextensions/google.colab/files.js\"></script> "
            ],
            "text/plain": [
              "<IPython.core.display.HTML object>"
            ]
          },
          "metadata": {
            "tags": []
          }
        },
        {
          "output_type": "stream",
          "text": [
            "Saving AW_PurchasingData.csv to AW_PurchasingData (3).csv\n"
          ],
          "name": "stdout"
        },
        {
          "output_type": "execute_result",
          "data": {
            "text/html": [
              "<div>\n",
              "<style scoped>\n",
              "    .dataframe tbody tr th:only-of-type {\n",
              "        vertical-align: middle;\n",
              "    }\n",
              "\n",
              "    .dataframe tbody tr th {\n",
              "        vertical-align: top;\n",
              "    }\n",
              "\n",
              "    .dataframe thead th {\n",
              "        text-align: right;\n",
              "    }\n",
              "</style>\n",
              "<table border=\"1\" class=\"dataframe\">\n",
              "  <thead>\n",
              "    <tr style=\"text-align: right;\">\n",
              "      <th></th>\n",
              "      <th>PurchaseOrderID</th>\n",
              "      <th>VendorID</th>\n",
              "      <th>CreditRating</th>\n",
              "      <th>ActiveFlag</th>\n",
              "      <th>OrderDate</th>\n",
              "      <th>ShipDate</th>\n",
              "      <th>SubTotal</th>\n",
              "      <th>TaxAmt</th>\n",
              "      <th>Freight</th>\n",
              "      <th>TotalDue</th>\n",
              "    </tr>\n",
              "  </thead>\n",
              "  <tbody>\n",
              "    <tr>\n",
              "      <th>0</th>\n",
              "      <td>1</td>\n",
              "      <td>1580</td>\n",
              "      <td>1</td>\n",
              "      <td>1</td>\n",
              "      <td>2011-04-16 00:00:00.000</td>\n",
              "      <td>2011-04-25 00:00:00.000</td>\n",
              "      <td>201.04</td>\n",
              "      <td>16.08</td>\n",
              "      <td>5.03</td>\n",
              "      <td>222.15</td>\n",
              "    </tr>\n",
              "    <tr>\n",
              "      <th>1</th>\n",
              "      <td>2</td>\n",
              "      <td>1496</td>\n",
              "      <td>1</td>\n",
              "      <td>1</td>\n",
              "      <td>2011-04-16 00:00:00.000</td>\n",
              "      <td>2011-04-25 00:00:00.000</td>\n",
              "      <td>272.10</td>\n",
              "      <td>21.77</td>\n",
              "      <td>6.80</td>\n",
              "      <td>300.67</td>\n",
              "    </tr>\n",
              "    <tr>\n",
              "      <th>2</th>\n",
              "      <td>3</td>\n",
              "      <td>1494</td>\n",
              "      <td>2</td>\n",
              "      <td>1</td>\n",
              "      <td>2011-04-16 00:00:00.000</td>\n",
              "      <td>2011-04-25 00:00:00.000</td>\n",
              "      <td>8847.30</td>\n",
              "      <td>707.78</td>\n",
              "      <td>221.18</td>\n",
              "      <td>9776.27</td>\n",
              "    </tr>\n",
              "    <tr>\n",
              "      <th>3</th>\n",
              "      <td>4</td>\n",
              "      <td>1650</td>\n",
              "      <td>1</td>\n",
              "      <td>1</td>\n",
              "      <td>2011-04-16 00:00:00.000</td>\n",
              "      <td>2011-04-25 00:00:00.000</td>\n",
              "      <td>171.08</td>\n",
              "      <td>13.69</td>\n",
              "      <td>4.28</td>\n",
              "      <td>189.04</td>\n",
              "    </tr>\n",
              "    <tr>\n",
              "      <th>4</th>\n",
              "      <td>5</td>\n",
              "      <td>1654</td>\n",
              "      <td>1</td>\n",
              "      <td>1</td>\n",
              "      <td>2011-04-30 00:00:00.000</td>\n",
              "      <td>2011-05-09 00:00:00.000</td>\n",
              "      <td>20397.30</td>\n",
              "      <td>1631.78</td>\n",
              "      <td>509.93</td>\n",
              "      <td>22539.02</td>\n",
              "    </tr>\n",
              "  </tbody>\n",
              "</table>\n",
              "</div>"
            ],
            "text/plain": [
              "   PurchaseOrderID  VendorID  CreditRating  ...  TaxAmt Freight TotalDue\n",
              "0                1      1580             1  ...   16.08    5.03   222.15\n",
              "1                2      1496             1  ...   21.77    6.80   300.67\n",
              "2                3      1494             2  ...  707.78  221.18  9776.27\n",
              "3                4      1650             1  ...   13.69    4.28   189.04\n",
              "4                5      1654             1  ... 1631.78  509.93 22539.02\n",
              "\n",
              "[5 rows x 10 columns]"
            ]
          },
          "metadata": {
            "tags": []
          },
          "execution_count": 11
        }
      ]
    },
    {
      "cell_type": "markdown",
      "metadata": {
        "id": "rGvGMrrd0s_Q"
      },
      "source": [
        "**调整 format 只输出两位数**"
      ]
    },
    {
      "cell_type": "code",
      "metadata": {
        "colab": {
          "base_uri": "https://localhost:8080/",
          "height": 590
        },
        "id": "_WJ83JE0X_E_",
        "outputId": "fa862205-d125-491d-a38d-b29157820ac5"
      },
      "source": [
        "pd.options.display.float_format = '{:.2f}'.format\r\n",
        "# imprimez le contenu DataFrame pour vérifier que le fichier a été lu correctement.\r\n",
        "df"
      ],
      "execution_count": 12,
      "outputs": [
        {
          "output_type": "execute_result",
          "data": {
            "text/html": [
              "<div>\n",
              "<style scoped>\n",
              "    .dataframe tbody tr th:only-of-type {\n",
              "        vertical-align: middle;\n",
              "    }\n",
              "\n",
              "    .dataframe tbody tr th {\n",
              "        vertical-align: top;\n",
              "    }\n",
              "\n",
              "    .dataframe thead th {\n",
              "        text-align: right;\n",
              "    }\n",
              "</style>\n",
              "<table border=\"1\" class=\"dataframe\">\n",
              "  <thead>\n",
              "    <tr style=\"text-align: right;\">\n",
              "      <th></th>\n",
              "      <th>PurchaseOrderID</th>\n",
              "      <th>VendorID</th>\n",
              "      <th>CreditRating</th>\n",
              "      <th>ActiveFlag</th>\n",
              "      <th>OrderDate</th>\n",
              "      <th>ShipDate</th>\n",
              "      <th>SubTotal</th>\n",
              "      <th>TaxAmt</th>\n",
              "      <th>Freight</th>\n",
              "      <th>TotalDue</th>\n",
              "    </tr>\n",
              "  </thead>\n",
              "  <tbody>\n",
              "    <tr>\n",
              "      <th>0</th>\n",
              "      <td>1</td>\n",
              "      <td>1580</td>\n",
              "      <td>1</td>\n",
              "      <td>1</td>\n",
              "      <td>2011-04-16 00:00:00.000</td>\n",
              "      <td>2011-04-25 00:00:00.000</td>\n",
              "      <td>201.04</td>\n",
              "      <td>16.08</td>\n",
              "      <td>5.03</td>\n",
              "      <td>222.15</td>\n",
              "    </tr>\n",
              "    <tr>\n",
              "      <th>1</th>\n",
              "      <td>2</td>\n",
              "      <td>1496</td>\n",
              "      <td>1</td>\n",
              "      <td>1</td>\n",
              "      <td>2011-04-16 00:00:00.000</td>\n",
              "      <td>2011-04-25 00:00:00.000</td>\n",
              "      <td>272.10</td>\n",
              "      <td>21.77</td>\n",
              "      <td>6.80</td>\n",
              "      <td>300.67</td>\n",
              "    </tr>\n",
              "    <tr>\n",
              "      <th>2</th>\n",
              "      <td>3</td>\n",
              "      <td>1494</td>\n",
              "      <td>2</td>\n",
              "      <td>1</td>\n",
              "      <td>2011-04-16 00:00:00.000</td>\n",
              "      <td>2011-04-25 00:00:00.000</td>\n",
              "      <td>8847.30</td>\n",
              "      <td>707.78</td>\n",
              "      <td>221.18</td>\n",
              "      <td>9776.27</td>\n",
              "    </tr>\n",
              "    <tr>\n",
              "      <th>3</th>\n",
              "      <td>4</td>\n",
              "      <td>1650</td>\n",
              "      <td>1</td>\n",
              "      <td>1</td>\n",
              "      <td>2011-04-16 00:00:00.000</td>\n",
              "      <td>2011-04-25 00:00:00.000</td>\n",
              "      <td>171.08</td>\n",
              "      <td>13.69</td>\n",
              "      <td>4.28</td>\n",
              "      <td>189.04</td>\n",
              "    </tr>\n",
              "    <tr>\n",
              "      <th>4</th>\n",
              "      <td>5</td>\n",
              "      <td>1654</td>\n",
              "      <td>1</td>\n",
              "      <td>1</td>\n",
              "      <td>2011-04-30 00:00:00.000</td>\n",
              "      <td>2011-05-09 00:00:00.000</td>\n",
              "      <td>20397.30</td>\n",
              "      <td>1631.78</td>\n",
              "      <td>509.93</td>\n",
              "      <td>22539.02</td>\n",
              "    </tr>\n",
              "    <tr>\n",
              "      <th>...</th>\n",
              "      <td>...</td>\n",
              "      <td>...</td>\n",
              "      <td>...</td>\n",
              "      <td>...</td>\n",
              "      <td>...</td>\n",
              "      <td>...</td>\n",
              "      <td>...</td>\n",
              "      <td>...</td>\n",
              "      <td>...</td>\n",
              "      <td>...</td>\n",
              "    </tr>\n",
              "    <tr>\n",
              "      <th>4007</th>\n",
              "      <td>4008</td>\n",
              "      <td>1676</td>\n",
              "      <td>1</td>\n",
              "      <td>1</td>\n",
              "      <td>2014-04-22 00:00:00.000</td>\n",
              "      <td>2014-05-17 00:00:00.000</td>\n",
              "      <td>396729.00</td>\n",
              "      <td>31738.32</td>\n",
              "      <td>7934.58</td>\n",
              "      <td>436401.90</td>\n",
              "    </tr>\n",
              "    <tr>\n",
              "      <th>4008</th>\n",
              "      <td>4009</td>\n",
              "      <td>1546</td>\n",
              "      <td>1</td>\n",
              "      <td>1</td>\n",
              "      <td>2013-11-09 00:00:00.000</td>\n",
              "      <td>2013-12-04 00:00:00.000</td>\n",
              "      <td>14915.00</td>\n",
              "      <td>1193.20</td>\n",
              "      <td>298.30</td>\n",
              "      <td>16406.50</td>\n",
              "    </tr>\n",
              "    <tr>\n",
              "      <th>4009</th>\n",
              "      <td>4010</td>\n",
              "      <td>1574</td>\n",
              "      <td>1</td>\n",
              "      <td>1</td>\n",
              "      <td>2013-11-09 00:00:00.000</td>\n",
              "      <td>2013-12-04 00:00:00.000</td>\n",
              "      <td>37760.00</td>\n",
              "      <td>3020.80</td>\n",
              "      <td>755.20</td>\n",
              "      <td>41536.00</td>\n",
              "    </tr>\n",
              "    <tr>\n",
              "      <th>4010</th>\n",
              "      <td>4011</td>\n",
              "      <td>1546</td>\n",
              "      <td>1</td>\n",
              "      <td>1</td>\n",
              "      <td>2014-06-24 00:00:00.000</td>\n",
              "      <td>2014-07-19 00:00:00.000</td>\n",
              "      <td>54492.50</td>\n",
              "      <td>4359.40</td>\n",
              "      <td>1089.85</td>\n",
              "      <td>59941.75</td>\n",
              "    </tr>\n",
              "    <tr>\n",
              "      <th>4011</th>\n",
              "      <td>4012</td>\n",
              "      <td>1636</td>\n",
              "      <td>1</td>\n",
              "      <td>1</td>\n",
              "      <td>2014-06-24 00:00:00.000</td>\n",
              "      <td>2014-07-19 00:00:00.000</td>\n",
              "      <td>997680.00</td>\n",
              "      <td>79814.40</td>\n",
              "      <td>19953.60</td>\n",
              "      <td>1097448.00</td>\n",
              "    </tr>\n",
              "  </tbody>\n",
              "</table>\n",
              "<p>4012 rows × 10 columns</p>\n",
              "</div>"
            ],
            "text/plain": [
              "      PurchaseOrderID  VendorID  CreditRating  ...   TaxAmt  Freight   TotalDue\n",
              "0                   1      1580             1  ...    16.08     5.03     222.15\n",
              "1                   2      1496             1  ...    21.77     6.80     300.67\n",
              "2                   3      1494             2  ...   707.78   221.18    9776.27\n",
              "3                   4      1650             1  ...    13.69     4.28     189.04\n",
              "4                   5      1654             1  ...  1631.78   509.93   22539.02\n",
              "...               ...       ...           ...  ...      ...      ...        ...\n",
              "4007             4008      1676             1  ... 31738.32  7934.58  436401.90\n",
              "4008             4009      1546             1  ...  1193.20   298.30   16406.50\n",
              "4009             4010      1574             1  ...  3020.80   755.20   41536.00\n",
              "4010             4011      1546             1  ...  4359.40  1089.85   59941.75\n",
              "4011             4012      1636             1  ... 79814.40 19953.60 1097448.00\n",
              "\n",
              "[4012 rows x 10 columns]"
            ]
          },
          "metadata": {
            "tags": []
          },
          "execution_count": 12
        }
      ]
    },
    {
      "cell_type": "markdown",
      "metadata": {
        "id": "w4DknH440yWm"
      },
      "source": [
        "**数据筛选**"
      ]
    },
    {
      "cell_type": "code",
      "metadata": {
        "colab": {
          "base_uri": "https://localhost:8080/"
        },
        "id": "bRNuOkcQ0RRK",
        "outputId": "9b4c2cde-035f-4c1b-e4d2-fbac862dded6"
      },
      "source": [
        "# sélectionner la troisième ligne... index [2] comme serie\r\n",
        "df.iloc[2]"
      ],
      "execution_count": 31,
      "outputs": [
        {
          "output_type": "execute_result",
          "data": {
            "text/plain": [
              "PurchaseOrderID                      3\n",
              "VendorID                          1494\n",
              "CreditRating                         2\n",
              "ActiveFlag                           1\n",
              "OrderDate          2011-04-16 00:00:00\n",
              "ShipDate           2011-04-25 00:00:00\n",
              "SubTotal                       8847.30\n",
              "TaxAmt                          707.78\n",
              "Freight                         221.18\n",
              "TotalDue                       9776.27\n",
              "VendorIDStr                       1494\n",
              "Quarter                              2\n",
              "QuarterName                   deuxième\n",
              "Name: 2, dtype: object"
            ]
          },
          "metadata": {
            "tags": []
          },
          "execution_count": 31
        }
      ]
    },
    {
      "cell_type": "code",
      "metadata": {
        "colab": {
          "base_uri": "https://localhost:8080/",
          "height": 114
        },
        "id": "XCL01BrD0XDz",
        "outputId": "7df281ab-c884-454a-e641-7b84ae491b1f"
      },
      "source": [
        "# sélectionner la troisième ligne... index [2] comme DataFrame\r\n",
        "df.iloc[[2]]"
      ],
      "execution_count": 34,
      "outputs": [
        {
          "output_type": "execute_result",
          "data": {
            "text/html": [
              "<div>\n",
              "<style scoped>\n",
              "    .dataframe tbody tr th:only-of-type {\n",
              "        vertical-align: middle;\n",
              "    }\n",
              "\n",
              "    .dataframe tbody tr th {\n",
              "        vertical-align: top;\n",
              "    }\n",
              "\n",
              "    .dataframe thead th {\n",
              "        text-align: right;\n",
              "    }\n",
              "</style>\n",
              "<table border=\"1\" class=\"dataframe\">\n",
              "  <thead>\n",
              "    <tr style=\"text-align: right;\">\n",
              "      <th></th>\n",
              "      <th>PurchaseOrderID</th>\n",
              "      <th>VendorID</th>\n",
              "      <th>CreditRating</th>\n",
              "      <th>ActiveFlag</th>\n",
              "      <th>OrderDate</th>\n",
              "      <th>ShipDate</th>\n",
              "      <th>SubTotal</th>\n",
              "      <th>TaxAmt</th>\n",
              "      <th>Freight</th>\n",
              "      <th>TotalDue</th>\n",
              "      <th>VendorIDStr</th>\n",
              "      <th>Quarter</th>\n",
              "      <th>QuarterName</th>\n",
              "    </tr>\n",
              "  </thead>\n",
              "  <tbody>\n",
              "    <tr>\n",
              "      <th>2</th>\n",
              "      <td>3</td>\n",
              "      <td>1494</td>\n",
              "      <td>2</td>\n",
              "      <td>1</td>\n",
              "      <td>2011-04-16</td>\n",
              "      <td>2011-04-25</td>\n",
              "      <td>8847.30</td>\n",
              "      <td>707.78</td>\n",
              "      <td>221.18</td>\n",
              "      <td>9776.27</td>\n",
              "      <td>1494</td>\n",
              "      <td>2</td>\n",
              "      <td>deuxième</td>\n",
              "    </tr>\n",
              "  </tbody>\n",
              "</table>\n",
              "</div>"
            ],
            "text/plain": [
              "   PurchaseOrderID  VendorID  CreditRating  ...  VendorIDStr Quarter QuarterName\n",
              "2                3      1494             2  ...         1494       2    deuxième\n",
              "\n",
              "[1 rows x 13 columns]"
            ]
          },
          "metadata": {
            "tags": []
          },
          "execution_count": 34
        }
      ]
    },
    {
      "cell_type": "code",
      "metadata": {
        "colab": {
          "base_uri": "https://localhost:8080/",
          "height": 206
        },
        "id": "6m8Z5Ac_0UQr",
        "outputId": "cd510e06-0d75-4d0d-d31c-893aa4b13908"
      },
      "source": [
        "# sélectionner de la deuxième jusqu'à la quatrième ligne  index =1 a index =3\r\n",
        "df.iloc[1:4]"
      ],
      "execution_count": 33,
      "outputs": [
        {
          "output_type": "execute_result",
          "data": {
            "text/html": [
              "<div>\n",
              "<style scoped>\n",
              "    .dataframe tbody tr th:only-of-type {\n",
              "        vertical-align: middle;\n",
              "    }\n",
              "\n",
              "    .dataframe tbody tr th {\n",
              "        vertical-align: top;\n",
              "    }\n",
              "\n",
              "    .dataframe thead th {\n",
              "        text-align: right;\n",
              "    }\n",
              "</style>\n",
              "<table border=\"1\" class=\"dataframe\">\n",
              "  <thead>\n",
              "    <tr style=\"text-align: right;\">\n",
              "      <th></th>\n",
              "      <th>PurchaseOrderID</th>\n",
              "      <th>VendorID</th>\n",
              "      <th>CreditRating</th>\n",
              "      <th>ActiveFlag</th>\n",
              "      <th>OrderDate</th>\n",
              "      <th>ShipDate</th>\n",
              "      <th>SubTotal</th>\n",
              "      <th>TaxAmt</th>\n",
              "      <th>Freight</th>\n",
              "      <th>TotalDue</th>\n",
              "      <th>VendorIDStr</th>\n",
              "      <th>Quarter</th>\n",
              "      <th>QuarterName</th>\n",
              "    </tr>\n",
              "  </thead>\n",
              "  <tbody>\n",
              "    <tr>\n",
              "      <th>1</th>\n",
              "      <td>2</td>\n",
              "      <td>1496</td>\n",
              "      <td>1</td>\n",
              "      <td>1</td>\n",
              "      <td>2011-04-16</td>\n",
              "      <td>2011-04-25</td>\n",
              "      <td>272.10</td>\n",
              "      <td>21.77</td>\n",
              "      <td>6.80</td>\n",
              "      <td>300.67</td>\n",
              "      <td>1496</td>\n",
              "      <td>2</td>\n",
              "      <td>deuxième</td>\n",
              "    </tr>\n",
              "    <tr>\n",
              "      <th>2</th>\n",
              "      <td>3</td>\n",
              "      <td>1494</td>\n",
              "      <td>2</td>\n",
              "      <td>1</td>\n",
              "      <td>2011-04-16</td>\n",
              "      <td>2011-04-25</td>\n",
              "      <td>8847.30</td>\n",
              "      <td>707.78</td>\n",
              "      <td>221.18</td>\n",
              "      <td>9776.27</td>\n",
              "      <td>1494</td>\n",
              "      <td>2</td>\n",
              "      <td>deuxième</td>\n",
              "    </tr>\n",
              "    <tr>\n",
              "      <th>3</th>\n",
              "      <td>4</td>\n",
              "      <td>1650</td>\n",
              "      <td>1</td>\n",
              "      <td>1</td>\n",
              "      <td>2011-04-16</td>\n",
              "      <td>2011-04-25</td>\n",
              "      <td>171.08</td>\n",
              "      <td>13.69</td>\n",
              "      <td>4.28</td>\n",
              "      <td>189.04</td>\n",
              "      <td>1650</td>\n",
              "      <td>2</td>\n",
              "      <td>deuxième</td>\n",
              "    </tr>\n",
              "  </tbody>\n",
              "</table>\n",
              "</div>"
            ],
            "text/plain": [
              "   PurchaseOrderID  VendorID  CreditRating  ...  VendorIDStr Quarter QuarterName\n",
              "1                2      1496             1  ...         1496       2    deuxième\n",
              "2                3      1494             2  ...         1494       2    deuxième\n",
              "3                4      1650             1  ...         1650       2    deuxième\n",
              "\n",
              "[3 rows x 13 columns]"
            ]
          },
          "metadata": {
            "tags": []
          },
          "execution_count": 33
        }
      ]
    },
    {
      "cell_type": "code",
      "metadata": {
        "colab": {
          "base_uri": "https://localhost:8080/",
          "height": 160
        },
        "id": "DhtjFi8v0hBL",
        "outputId": "8c6ea462-1f5e-414d-9e3a-86aa9f2bedc6"
      },
      "source": [
        "# sélectionner le deuxième ET le cinquième enregistrement index1 et 4\r\n",
        "df.iloc[[1,4]]"
      ],
      "execution_count": 35,
      "outputs": [
        {
          "output_type": "execute_result",
          "data": {
            "text/html": [
              "<div>\n",
              "<style scoped>\n",
              "    .dataframe tbody tr th:only-of-type {\n",
              "        vertical-align: middle;\n",
              "    }\n",
              "\n",
              "    .dataframe tbody tr th {\n",
              "        vertical-align: top;\n",
              "    }\n",
              "\n",
              "    .dataframe thead th {\n",
              "        text-align: right;\n",
              "    }\n",
              "</style>\n",
              "<table border=\"1\" class=\"dataframe\">\n",
              "  <thead>\n",
              "    <tr style=\"text-align: right;\">\n",
              "      <th></th>\n",
              "      <th>PurchaseOrderID</th>\n",
              "      <th>VendorID</th>\n",
              "      <th>CreditRating</th>\n",
              "      <th>ActiveFlag</th>\n",
              "      <th>OrderDate</th>\n",
              "      <th>ShipDate</th>\n",
              "      <th>SubTotal</th>\n",
              "      <th>TaxAmt</th>\n",
              "      <th>Freight</th>\n",
              "      <th>TotalDue</th>\n",
              "      <th>VendorIDStr</th>\n",
              "      <th>Quarter</th>\n",
              "      <th>QuarterName</th>\n",
              "    </tr>\n",
              "  </thead>\n",
              "  <tbody>\n",
              "    <tr>\n",
              "      <th>1</th>\n",
              "      <td>2</td>\n",
              "      <td>1496</td>\n",
              "      <td>1</td>\n",
              "      <td>1</td>\n",
              "      <td>2011-04-16</td>\n",
              "      <td>2011-04-25</td>\n",
              "      <td>272.10</td>\n",
              "      <td>21.77</td>\n",
              "      <td>6.80</td>\n",
              "      <td>300.67</td>\n",
              "      <td>1496</td>\n",
              "      <td>2</td>\n",
              "      <td>deuxième</td>\n",
              "    </tr>\n",
              "    <tr>\n",
              "      <th>4</th>\n",
              "      <td>5</td>\n",
              "      <td>1654</td>\n",
              "      <td>1</td>\n",
              "      <td>1</td>\n",
              "      <td>2011-04-30</td>\n",
              "      <td>2011-05-09</td>\n",
              "      <td>20397.30</td>\n",
              "      <td>1631.78</td>\n",
              "      <td>509.93</td>\n",
              "      <td>22539.02</td>\n",
              "      <td>1654</td>\n",
              "      <td>2</td>\n",
              "      <td>deuxième</td>\n",
              "    </tr>\n",
              "  </tbody>\n",
              "</table>\n",
              "</div>"
            ],
            "text/plain": [
              "   PurchaseOrderID  VendorID  CreditRating  ...  VendorIDStr Quarter QuarterName\n",
              "1                2      1496             1  ...         1496       2    deuxième\n",
              "4                5      1654             1  ...         1654       2    deuxième\n",
              "\n",
              "[2 rows x 13 columns]"
            ]
          },
          "metadata": {
            "tags": []
          },
          "execution_count": 35
        }
      ]
    },
    {
      "cell_type": "markdown",
      "metadata": {
        "id": "BR63D6vX0j56"
      },
      "source": [
        "**数据转换： to_datetime; to_numerical ; STR**"
      ]
    },
    {
      "cell_type": "code",
      "metadata": {
        "id": "KyIKxGc6ZFvQ"
      },
      "source": [
        "### assurez-vous que la date de la commande et la date d'expédition sont en format datetime.\r\n",
        "df[\"OrderDate\"] = pd.to_datetime(df[\"OrderDate\"])\r\n",
        "df[\"ShipDate\"] = pd.to_datetime(df[\"ShipDate\"])\r\n",
        "df['VendorIDStr'] = df['VendorID'].apply(str)"
      ],
      "execution_count": 14,
      "outputs": []
    },
    {
      "cell_type": "markdown",
      "metadata": {
        "id": "0TjQladVZpfb"
      },
      "source": [
        "**Datetime 转化成 文本形式**\r\n",
        "\r\n",
        "\r\n"
      ]
    },
    {
      "cell_type": "code",
      "metadata": {
        "id": "xo4aom8_Zokj"
      },
      "source": [
        "# créer une nouvelle série dans le dataframe existant contenant la valeur du trimestre extraite\r\n",
        "# à partir du 'OrderDate'\r\n",
        "df['Quarter'] = df['OrderDate'].dt.quarter"
      ],
      "execution_count": 18,
      "outputs": []
    },
    {
      "cell_type": "code",
      "metadata": {
        "id": "68m7gK_yZt3Z"
      },
      "source": [
        "# définition d'une fonction pour transformer le numéro du trimestre dans son nom\r\n",
        "def NomTrimestre(QVal):\r\n",
        "\r\n",
        "    if QVal == 1:\r\n",
        "        nom = 'premier'\r\n",
        "    elif QVal == 2:\r\n",
        "        nom = 'deuxième'\r\n",
        "    elif QVal == 3:\r\n",
        "        nom = 'troisième'\r\n",
        "    else:\r\n",
        "        nom = 'quatrième'\r\n",
        "        \r\n",
        "    return nom"
      ],
      "execution_count": 19,
      "outputs": []
    },
    {
      "cell_type": "code",
      "metadata": {
        "colab": {
          "base_uri": "https://localhost:8080/",
          "height": 299
        },
        "id": "w65nPYmUZvq1",
        "outputId": "5afef655-9a5f-4cf2-eb53-7dc260c94c7a"
      },
      "source": [
        "# nous appelons la fonction nouvellement définie (en utilisant 'apply') pour créér une série et \r\n",
        "# la mettre à jour avec les noms des trimistres\r\n",
        "df['QuarterName'] = df['Quarter'].apply(NomTrimestre)\r\n",
        "df.head()"
      ],
      "execution_count": 22,
      "outputs": [
        {
          "output_type": "execute_result",
          "data": {
            "text/html": [
              "<div>\n",
              "<style scoped>\n",
              "    .dataframe tbody tr th:only-of-type {\n",
              "        vertical-align: middle;\n",
              "    }\n",
              "\n",
              "    .dataframe tbody tr th {\n",
              "        vertical-align: top;\n",
              "    }\n",
              "\n",
              "    .dataframe thead th {\n",
              "        text-align: right;\n",
              "    }\n",
              "</style>\n",
              "<table border=\"1\" class=\"dataframe\">\n",
              "  <thead>\n",
              "    <tr style=\"text-align: right;\">\n",
              "      <th></th>\n",
              "      <th>PurchaseOrderID</th>\n",
              "      <th>VendorID</th>\n",
              "      <th>CreditRating</th>\n",
              "      <th>ActiveFlag</th>\n",
              "      <th>OrderDate</th>\n",
              "      <th>ShipDate</th>\n",
              "      <th>SubTotal</th>\n",
              "      <th>TaxAmt</th>\n",
              "      <th>Freight</th>\n",
              "      <th>TotalDue</th>\n",
              "      <th>VendorIDStr</th>\n",
              "      <th>Quarter</th>\n",
              "      <th>QuarterName</th>\n",
              "    </tr>\n",
              "  </thead>\n",
              "  <tbody>\n",
              "    <tr>\n",
              "      <th>0</th>\n",
              "      <td>1</td>\n",
              "      <td>1580</td>\n",
              "      <td>1</td>\n",
              "      <td>1</td>\n",
              "      <td>2011-04-16</td>\n",
              "      <td>2011-04-25</td>\n",
              "      <td>201.04</td>\n",
              "      <td>16.08</td>\n",
              "      <td>5.03</td>\n",
              "      <td>222.15</td>\n",
              "      <td>1580</td>\n",
              "      <td>2</td>\n",
              "      <td>deuxième</td>\n",
              "    </tr>\n",
              "    <tr>\n",
              "      <th>1</th>\n",
              "      <td>2</td>\n",
              "      <td>1496</td>\n",
              "      <td>1</td>\n",
              "      <td>1</td>\n",
              "      <td>2011-04-16</td>\n",
              "      <td>2011-04-25</td>\n",
              "      <td>272.10</td>\n",
              "      <td>21.77</td>\n",
              "      <td>6.80</td>\n",
              "      <td>300.67</td>\n",
              "      <td>1496</td>\n",
              "      <td>2</td>\n",
              "      <td>deuxième</td>\n",
              "    </tr>\n",
              "    <tr>\n",
              "      <th>2</th>\n",
              "      <td>3</td>\n",
              "      <td>1494</td>\n",
              "      <td>2</td>\n",
              "      <td>1</td>\n",
              "      <td>2011-04-16</td>\n",
              "      <td>2011-04-25</td>\n",
              "      <td>8847.30</td>\n",
              "      <td>707.78</td>\n",
              "      <td>221.18</td>\n",
              "      <td>9776.27</td>\n",
              "      <td>1494</td>\n",
              "      <td>2</td>\n",
              "      <td>deuxième</td>\n",
              "    </tr>\n",
              "    <tr>\n",
              "      <th>3</th>\n",
              "      <td>4</td>\n",
              "      <td>1650</td>\n",
              "      <td>1</td>\n",
              "      <td>1</td>\n",
              "      <td>2011-04-16</td>\n",
              "      <td>2011-04-25</td>\n",
              "      <td>171.08</td>\n",
              "      <td>13.69</td>\n",
              "      <td>4.28</td>\n",
              "      <td>189.04</td>\n",
              "      <td>1650</td>\n",
              "      <td>2</td>\n",
              "      <td>deuxième</td>\n",
              "    </tr>\n",
              "    <tr>\n",
              "      <th>4</th>\n",
              "      <td>5</td>\n",
              "      <td>1654</td>\n",
              "      <td>1</td>\n",
              "      <td>1</td>\n",
              "      <td>2011-04-30</td>\n",
              "      <td>2011-05-09</td>\n",
              "      <td>20397.30</td>\n",
              "      <td>1631.78</td>\n",
              "      <td>509.93</td>\n",
              "      <td>22539.02</td>\n",
              "      <td>1654</td>\n",
              "      <td>2</td>\n",
              "      <td>deuxième</td>\n",
              "    </tr>\n",
              "  </tbody>\n",
              "</table>\n",
              "</div>"
            ],
            "text/plain": [
              "   PurchaseOrderID  VendorID  CreditRating  ...  VendorIDStr Quarter QuarterName\n",
              "0                1      1580             1  ...         1580       2    deuxième\n",
              "1                2      1496             1  ...         1496       2    deuxième\n",
              "2                3      1494             2  ...         1494       2    deuxième\n",
              "3                4      1650             1  ...         1650       2    deuxième\n",
              "4                5      1654             1  ...         1654       2    deuxième\n",
              "\n",
              "[5 rows x 13 columns]"
            ]
          },
          "metadata": {
            "tags": []
          },
          "execution_count": 22
        }
      ]
    },
    {
      "cell_type": "code",
      "metadata": {
        "colab": {
          "base_uri": "https://localhost:8080/",
          "height": 416
        },
        "id": "vee0pIESZzvs",
        "outputId": "7cf9a597-2a6e-4450-e225-9e18d40a66dc"
      },
      "source": [
        "# production de la visualisation\r\n",
        "sns.catplot(kind='count', x='QuarterName', data=df, order=['premier','deuxième','troisième','quatrième']). \\\r\n",
        "    set(xlabel='Trimestre', ylabel='Nombre des achats', title='Nombre des achats faites, par trimestre.')"
      ],
      "execution_count": 24,
      "outputs": [
        {
          "output_type": "execute_result",
          "data": {
            "text/plain": [
              "<seaborn.axisgrid.FacetGrid at 0x7f4dd9b6cb10>"
            ]
          },
          "metadata": {
            "tags": []
          },
          "execution_count": 24
        },
        {
          "output_type": "display_data",
          "data": {
            "image/png": "[encoded data removed]",
            "text/plain": [
              "<Figure size 360x360 with 1 Axes>"
            ]
          },
          "metadata": {
            "tags": [],
            "needs_background": "light"
          }
        }
      ]
    },
    {
      "cell_type": "markdown",
      "metadata": {
        "id": "yHLCn3ZvaB7F"
      },
      "source": [
        "**Et enfin, utilisez PrettyTable pour afficher en format tabulaire le nombre des achats par trimestre.**"
      ]
    },
    {
      "cell_type": "code",
      "metadata": {
        "colab": {
          "base_uri": "https://localhost:8080/",
          "height": 186
        },
        "id": "HhMSYuxWZ_E2",
        "outputId": "fdc3ee7e-e788-4dc4-ef87-4ff216848f26"
      },
      "source": [
        "# approche 1\r\n",
        "df_purchases_count = df.groupby(['QuarterName']).count().reset_index()\r\n",
        "# approche 1\r\n",
        "df_purchases_count"
      ],
      "execution_count": 28,
      "outputs": [
        {
          "output_type": "execute_result",
          "data": {
            "text/html": [
              "<div>\n",
              "<style scoped>\n",
              "    .dataframe tbody tr th:only-of-type {\n",
              "        vertical-align: middle;\n",
              "    }\n",
              "\n",
              "    .dataframe tbody tr th {\n",
              "        vertical-align: top;\n",
              "    }\n",
              "\n",
              "    .dataframe thead th {\n",
              "        text-align: right;\n",
              "    }\n",
              "</style>\n",
              "<table border=\"1\" class=\"dataframe\">\n",
              "  <thead>\n",
              "    <tr style=\"text-align: right;\">\n",
              "      <th></th>\n",
              "      <th>QuarterName</th>\n",
              "      <th>PurchaseOrderID</th>\n",
              "      <th>VendorID</th>\n",
              "      <th>CreditRating</th>\n",
              "      <th>ActiveFlag</th>\n",
              "      <th>OrderDate</th>\n",
              "      <th>ShipDate</th>\n",
              "      <th>SubTotal</th>\n",
              "      <th>TaxAmt</th>\n",
              "      <th>Freight</th>\n",
              "      <th>TotalDue</th>\n",
              "      <th>VendorIDStr</th>\n",
              "      <th>Quarter</th>\n",
              "    </tr>\n",
              "  </thead>\n",
              "  <tbody>\n",
              "    <tr>\n",
              "      <th>0</th>\n",
              "      <td>deuxième</td>\n",
              "      <td>1244</td>\n",
              "      <td>1244</td>\n",
              "      <td>1244</td>\n",
              "      <td>1244</td>\n",
              "      <td>1244</td>\n",
              "      <td>1244</td>\n",
              "      <td>1244</td>\n",
              "      <td>1244</td>\n",
              "      <td>1244</td>\n",
              "      <td>1244</td>\n",
              "      <td>1244</td>\n",
              "      <td>1244</td>\n",
              "    </tr>\n",
              "    <tr>\n",
              "      <th>1</th>\n",
              "      <td>premier</td>\n",
              "      <td>1004</td>\n",
              "      <td>1004</td>\n",
              "      <td>1004</td>\n",
              "      <td>1004</td>\n",
              "      <td>1004</td>\n",
              "      <td>1004</td>\n",
              "      <td>1004</td>\n",
              "      <td>1004</td>\n",
              "      <td>1004</td>\n",
              "      <td>1004</td>\n",
              "      <td>1004</td>\n",
              "      <td>1004</td>\n",
              "    </tr>\n",
              "    <tr>\n",
              "      <th>2</th>\n",
              "      <td>quatrième</td>\n",
              "      <td>635</td>\n",
              "      <td>635</td>\n",
              "      <td>635</td>\n",
              "      <td>635</td>\n",
              "      <td>635</td>\n",
              "      <td>635</td>\n",
              "      <td>635</td>\n",
              "      <td>635</td>\n",
              "      <td>635</td>\n",
              "      <td>635</td>\n",
              "      <td>635</td>\n",
              "      <td>635</td>\n",
              "    </tr>\n",
              "    <tr>\n",
              "      <th>3</th>\n",
              "      <td>troisième</td>\n",
              "      <td>1129</td>\n",
              "      <td>1129</td>\n",
              "      <td>1129</td>\n",
              "      <td>1129</td>\n",
              "      <td>1129</td>\n",
              "      <td>1129</td>\n",
              "      <td>1129</td>\n",
              "      <td>1129</td>\n",
              "      <td>1129</td>\n",
              "      <td>1129</td>\n",
              "      <td>1129</td>\n",
              "      <td>1129</td>\n",
              "    </tr>\n",
              "  </tbody>\n",
              "</table>\n",
              "</div>"
            ],
            "text/plain": [
              "  QuarterName  PurchaseOrderID  VendorID  ...  TotalDue  VendorIDStr  Quarter\n",
              "0    deuxième             1244      1244  ...      1244         1244     1244\n",
              "1     premier             1004      1004  ...      1004         1004     1004\n",
              "2   quatrième              635       635  ...       635          635      635\n",
              "3   troisième             1129      1129  ...      1129         1129     1129\n",
              "\n",
              "[4 rows x 13 columns]"
            ]
          },
          "metadata": {
            "tags": []
          },
          "execution_count": 28
        }
      ]
    },
    {
      "cell_type": "code",
      "metadata": {
        "colab": {
          "base_uri": "https://localhost:8080/",
          "height": 186
        },
        "id": "YBDGRnnuaGYs",
        "outputId": "51c551b8-debe-489b-9a41-36c35d4c159b"
      },
      "source": [
        "# approche 2\r\n",
        "# reindex([\"\",\"\"]) ==> 决定顺序\r\n",
        "df_purchases_count = df.groupby(['QuarterName']).count().\\\r\n",
        "    reindex(['premier','deuxième','troisième','quatrième']).reset_index()\r\n",
        "df_purchases_count"
      ],
      "execution_count": 29,
      "outputs": [
        {
          "output_type": "execute_result",
          "data": {
            "text/html": [
              "<div>\n",
              "<style scoped>\n",
              "    .dataframe tbody tr th:only-of-type {\n",
              "        vertical-align: middle;\n",
              "    }\n",
              "\n",
              "    .dataframe tbody tr th {\n",
              "        vertical-align: top;\n",
              "    }\n",
              "\n",
              "    .dataframe thead th {\n",
              "        text-align: right;\n",
              "    }\n",
              "</style>\n",
              "<table border=\"1\" class=\"dataframe\">\n",
              "  <thead>\n",
              "    <tr style=\"text-align: right;\">\n",
              "      <th></th>\n",
              "      <th>QuarterName</th>\n",
              "      <th>PurchaseOrderID</th>\n",
              "      <th>VendorID</th>\n",
              "      <th>CreditRating</th>\n",
              "      <th>ActiveFlag</th>\n",
              "      <th>OrderDate</th>\n",
              "      <th>ShipDate</th>\n",
              "      <th>SubTotal</th>\n",
              "      <th>TaxAmt</th>\n",
              "      <th>Freight</th>\n",
              "      <th>TotalDue</th>\n",
              "      <th>VendorIDStr</th>\n",
              "      <th>Quarter</th>\n",
              "    </tr>\n",
              "  </thead>\n",
              "  <tbody>\n",
              "    <tr>\n",
              "      <th>0</th>\n",
              "      <td>premier</td>\n",
              "      <td>1004</td>\n",
              "      <td>1004</td>\n",
              "      <td>1004</td>\n",
              "      <td>1004</td>\n",
              "      <td>1004</td>\n",
              "      <td>1004</td>\n",
              "      <td>1004</td>\n",
              "      <td>1004</td>\n",
              "      <td>1004</td>\n",
              "      <td>1004</td>\n",
              "      <td>1004</td>\n",
              "      <td>1004</td>\n",
              "    </tr>\n",
              "    <tr>\n",
              "      <th>1</th>\n",
              "      <td>deuxième</td>\n",
              "      <td>1244</td>\n",
              "      <td>1244</td>\n",
              "      <td>1244</td>\n",
              "      <td>1244</td>\n",
              "      <td>1244</td>\n",
              "      <td>1244</td>\n",
              "      <td>1244</td>\n",
              "      <td>1244</td>\n",
              "      <td>1244</td>\n",
              "      <td>1244</td>\n",
              "      <td>1244</td>\n",
              "      <td>1244</td>\n",
              "    </tr>\n",
              "    <tr>\n",
              "      <th>2</th>\n",
              "      <td>troisième</td>\n",
              "      <td>1129</td>\n",
              "      <td>1129</td>\n",
              "      <td>1129</td>\n",
              "      <td>1129</td>\n",
              "      <td>1129</td>\n",
              "      <td>1129</td>\n",
              "      <td>1129</td>\n",
              "      <td>1129</td>\n",
              "      <td>1129</td>\n",
              "      <td>1129</td>\n",
              "      <td>1129</td>\n",
              "      <td>1129</td>\n",
              "    </tr>\n",
              "    <tr>\n",
              "      <th>3</th>\n",
              "      <td>quatrième</td>\n",
              "      <td>635</td>\n",
              "      <td>635</td>\n",
              "      <td>635</td>\n",
              "      <td>635</td>\n",
              "      <td>635</td>\n",
              "      <td>635</td>\n",
              "      <td>635</td>\n",
              "      <td>635</td>\n",
              "      <td>635</td>\n",
              "      <td>635</td>\n",
              "      <td>635</td>\n",
              "      <td>635</td>\n",
              "    </tr>\n",
              "  </tbody>\n",
              "</table>\n",
              "</div>"
            ],
            "text/plain": [
              "  QuarterName  PurchaseOrderID  VendorID  ...  TotalDue  VendorIDStr  Quarter\n",
              "0     premier             1004      1004  ...      1004         1004     1004\n",
              "1    deuxième             1244      1244  ...      1244         1244     1244\n",
              "2   troisième             1129      1129  ...      1129         1129     1129\n",
              "3   quatrième              635       635  ...       635          635      635\n",
              "\n",
              "[4 rows x 13 columns]"
            ]
          },
          "metadata": {
            "tags": []
          },
          "execution_count": 29
        }
      ]
    },
    {
      "cell_type": "code",
      "metadata": {
        "colab": {
          "base_uri": "https://localhost:8080/"
        },
        "id": "KXlEdu_kaVc1",
        "outputId": "3b94e306-b758-4b69-9307-54fcb754f236"
      },
      "source": [
        "# PrettyTable est une librairie Python conçue pour permettre de représenter rapidement et facilement\r\n",
        "# des données tabulaires dans des tableaux ASCII visuellement attrayants.\r\n",
        "from prettytable import PrettyTable\r\n",
        "\r\n",
        "# on définit un format d'affichage (colonnes, cellules etc.)\r\n",
        "\r\n",
        "# field_names = ['Trimestre', 'Count'] : nous stockons les titres des colonnes dans une variable de type liste\r\n",
        "pt = PrettyTable(field_names = ['Trimestre', 'Count'])\r\n",
        "\r\n",
        "# lire le contenu du dataframe 'df_purchases_count', un enregistrement à la fois, seulement les attributs\r\n",
        "# 'QuarterName' et 'PurchaseOrderID' et stocker les valeurs dans un tableau \"array\"\r\n",
        "[ pt.add_row([line['QuarterName'], line['PurchaseOrderID']]) for line in df_purchases_count.to_records(index = False) ]\r\n",
        "\r\n",
        "# options de centrage pour l'affichage\r\n",
        "pt.align['Trimestre'] = \"r\"  # right\r\n",
        "pt.align['Count'] = \"l\" # autre option \"c\"  centre\r\n",
        "\r\n",
        "# une fois le formatage finalisé, on affiche…\r\n",
        "print(pt)"
      ],
      "execution_count": 30,
      "outputs": [
        {
          "output_type": "stream",
          "text": [
            "+-----------+-------+\n",
            "| Trimestre | Count |\n",
            "+-----------+-------+\n",
            "|   premier | 1004  |\n",
            "|  deuxième | 1244  |\n",
            "| troisième | 1129  |\n",
            "| quatrième | 635   |\n",
            "+-----------+-------+\n"
          ],
          "name": "stdout"
        }
      ]
    },
    {
      "cell_type": "markdown",
      "metadata": {
        "id": "mUJ20eNqyvHj"
      },
      "source": [
        "**prettyTable**\r\n",
        "\r\n",
        "on définit un format d'affichage (colonnes, cellules etc.)\r\n",
        "\r\n",
        "#### df_product.columns : renvoie les noms des colonnes\r\n",
        "\r\n",
        "#### field_names = list(df_product.columns) : nous stockons les noms dans une variable de type liste\r\n",
        "pt = PrettyTable(field_names = list(df_product.columns))\r\n",
        "\r\n",
        "\r\n",
        "也可以自己任意命名\r\n",
        "\r\n",
        "pt = PrettyTable(field_names = list([\"1\",\"2\",\"3\"]))\r\n"
      ]
    },
    {
      "cell_type": "code",
      "metadata": {
        "id": "-8-wLfTnyu37"
      },
      "source": [
        ""
      ],
      "execution_count": null,
      "outputs": []
    },
    {
      "cell_type": "markdown",
      "metadata": {
        "id": "Nuj6u1jbzOQe"
      },
      "source": [
        "**Seaborn**"
      ]
    },
    {
      "cell_type": "code",
      "metadata": {
        "colab": {
          "base_uri": "https://localhost:8080/",
          "height": 400
        },
        "id": "m6yHa151ZWH6",
        "outputId": "4fa9aed7-0006-4eba-85e8-8155f640e2d6"
      },
      "source": [
        "# sélectionner les lignes à partir de 'df_purchases' avec plusieurs conditions\r\n",
        "df_vendor_sample = df[(df[\"ActiveFlag\"] == 1) & (df[\"CreditRating\"] == 2)]\r\n",
        "\r\n",
        "# nombre d'achats effectués auprès de fournisseurs répondant aux critères de sélection\r\n",
        "sns.catplot(kind='count', x='VendorID', data=df_vendor_sample)"
      ],
      "execution_count": 15,
      "outputs": [
        {
          "output_type": "execute_result",
          "data": {
            "text/plain": [
              "<seaborn.axisgrid.FacetGrid at 0x7f4dda6f02d0>"
            ]
          },
          "metadata": {
            "tags": []
          },
          "execution_count": 15
        },
        {
          "output_type": "display_data",
          "data": {
            "image/png": "[encoded data removed]",
            "text/plain": [
              "<Figure size 360x360 with 1 Axes>"
            ]
          },
          "metadata": {
            "tags": [],
            "needs_background": "light"
          }
        }
      ]
    },
    {
      "cell_type": "code",
      "metadata": {
        "colab": {
          "base_uri": "https://localhost:8080/",
          "height": 400
        },
        "id": "TD-Kv3sfZca4",
        "outputId": "644dddc2-61c1-416b-d9da-be02cb5aed18"
      },
      "source": [
        "df_vendor_sample_1568_1692 = df_vendor_sample[((df_vendor_sample[\"VendorID\"] == 1568) | \\\r\n",
        "                                                (df_vendor_sample[\"VendorID\"] == 1692)) & \\\r\n",
        "                                                (df_vendor_sample[\"OrderDate\"] > '2013-06-30') & \\\r\n",
        "                                                (df_vendor_sample[\"OrderDate\"] < '2014-06-30')]\r\n",
        "sns.relplot(kind='line', x='OrderDate', y='TotalDue', hue='VendorID', data=df_vendor_sample_1568_1692)"
      ],
      "execution_count": 16,
      "outputs": [
        {
          "output_type": "execute_result",
          "data": {
            "text/plain": [
              "<seaborn.axisgrid.FacetGrid at 0x7f4dda72ef10>"
            ]
          },
          "metadata": {
            "tags": []
          },
          "execution_count": 16
        },
        {
          "output_type": "display_data",
          "data": {
            "image/png": "[encoded data removed]",
            "text/plain": [
              "<Figure size 421.5x360 with 1 Axes>"
            ]
          },
          "metadata": {
            "tags": [],
            "needs_background": "light"
          }
        }
      ]
    },
    {
      "cell_type": "code",
      "metadata": {
        "id": "GjDVusTbZlMP"
      },
      "source": [
        ""
      ],
      "execution_count": 17,
      "outputs": []
    }
  ]
}