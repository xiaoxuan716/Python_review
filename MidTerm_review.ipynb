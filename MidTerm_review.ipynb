{
  "nbformat": 4,
  "nbformat_minor": 0,
  "metadata": {
    "colab": {
      "name": "MidTerm_review.ipynb",
      "provenance": [],
      "collapsed_sections": [],
      "authorship_tag": "ABX9TyMVIlKNwdLCzv6MTly4D6kk",
      "include_colab_link": true
    },
    "kernelspec": {
      "name": "python3",
      "display_name": "Python 3"
    }
  },
  "cells": [
    {
      "cell_type": "markdown",
      "metadata": {
        "id": "view-in-github",
        "colab_type": "text"
      },
      "source": [
        "<a href=\"https://colab.research.google.com/github/xiaoxuan716/Python_review/blob/main/MidTerm_review.ipynb\" target=\"_parent\"><img src=\"https://colab.research.google.com/assets/colab-badge.svg\" alt=\"Open In Colab\"/></a>"
      ]
    },
    {
      "cell_type": "code",
      "metadata": {
        "colab": {
          "base_uri": "https://localhost:8080/"
        },
        "id": "J4xByNEdD2wl",
        "outputId": "dcf3d8d8-14ce-4550-9eaa-6689a3afd1aa"
      },
      "source": [
        "492/(492+192)"
      ],
      "execution_count": null,
      "outputs": [
        {
          "output_type": "execute_result",
          "data": {
            "text/plain": [
              "0.7192982456140351"
            ]
          },
          "metadata": {
            "tags": []
          },
          "execution_count": 5
        }
      ]
    },
    {
      "cell_type": "markdown",
      "metadata": {
        "id": "4itEwwHAiwGy"
      },
      "source": [
        "Dummy Variables/ Log Transformation : https://colab.research.google.com/github/acedesci/scanalytics/blob/master/S05_Data_Preprocessing/S05_InClass_Exercises_Solution.ipynb#scrollTo=hsAh6eHGwHqB\r\n"
      ]
    },
    {
      "cell_type": "markdown",
      "metadata": {
        "id": "HruCQC77Bbph"
      },
      "source": [
        "**O. List, Tuple, DIc** https://colab.research.google.com/github/acedesci/scanalytics/blob/master/S03_Data_Structures_1/03_Lecture_Example1_Intro_Structures.ipynb#scrollTo=MzZyU3KN3zaN\r\n",
        "\r\n",
        "\r\n",
        "1.   List Comprehension : \r\n",
        "\r\n",
        "l1 = [1.5, 2.4, 2.0, 3.0]\r\n",
        "l2 = [100, 200, 150, 400]\r\n",
        "n_elements = len(l1) # get the length of the list\r\n",
        "revenue = [l1[i]*l2[i] for i in range(n_elements)] \r\n",
        "\r\n",
        "    # total revenue for each product for price > 2\r\n",
        "revenue_p2 = [l1[i]*l2[i] for i in range(n_elements) if l1[i] > 2] \r\n",
        "\r\n",
        "2.  Loop # which is the same as using the for and if statement as follows\r\n",
        "revenue_p2_loop = []\r\n",
        "for i in range(n_elements):\r\n",
        "  if l1[i] > 2:\r\n",
        "    revenue_p2_loop.append(l1[i]*l2[i])\r\n",
        "\r\n",
        "\r\n",
        "3.  Loop + lIst comprhension : https://colab.research.google.com/github/acedesci/scanalytics/blob/master/S03_Data_Structures_1/03_Lecture_Example2_SC_examples.ipynb#scrollTo=vpz3ltIMjzTy\r\n",
        "\r\n",
        "def xxx(forecast, real_demand):\r\n",
        "\r\n",
        "    sum_mse = 0\r\n",
        "\r\n",
        "    n_periods = len(forecast) # get the number of periods from the list\r\n",
        "\r\n",
        "    for t in range(n_periods):\r\n",
        "        sum_mse += (real_demand[t] - forecast[t]) ** 2\r\n",
        "    return sum_mse/n_periods\r\n",
        "\r\n",
        "如果直接使用list comprehension: \r\n",
        "mse_t = [(real_demand[t] - forecast[t]) ** 2 for t in range(n_periods)] \r\n",
        "    return sum(mse_t)/n_periods \r\n",
        "\r\n",
        "\r\n"
      ]
    },
    {
      "cell_type": "markdown",
      "metadata": {
        "id": "PjO-7US3pRNL"
      },
      "source": [
        "**A. Pandas** https://colab.research.google.com/github/acedesci/scanalytics/blob/master/S04_Data_Structures_2/S4_LectureEx_Notebook_with_Code.ipynb#scrollTo=phkymq0UCFTR\r\n",
        "1.  import pandas as pd\r\n",
        "\r\n",
        "pd.DataFrame({'Yes':[50, 21], 'No':[131, 2]})\r\n",
        "\r\n",
        "2.  提取数据 返回一个Seriesz只有一个[]/DataFrame 有两个[[]]：iloc & loc如果只有一个parametre代表提取行，两个行and列\r\n",
        "https://blog.csdn.net/W_weiying/article/details/81411257\r\n",
        "\r\n",
        "a)index-based selection, i.e., the iloc[row_number, col_number]\r\n",
        "\r\n",
        "df.iloc[0,2]  # 1 row 3 col  \r\n",
        "\r\n",
        "b)Label-based selection \r\n",
        "df.loc[0,'UPC']  OR   df.at[0, 'UPC']\r\n",
        "\r\n",
        "3.  返回 True False 从而可以sum（）\r\n",
        "        \r\n",
        "    df.P1_Ending_Inv<0\r\n",
        "    \r\n",
        "    sum(df.P1_Ending_Inv<0)\r\n",
        "\r\n",
        "3.  Repalce 文字： \r\n",
        "\r\n",
        "df['NewColumn'] = df.NewColumn.replace(\"Unavailable\", 'Kwik-E-Mart')\r\n",
        "\r\n",
        "\r\n",
        "4.  重命名 index  & cols names \r\n",
        "    df.rename(columns={'WEEK_END_DATE': 'END_DATE'}) \r\n",
        "\r\n",
        "    df.rename(index={0:'First row', 1:'Second row'})\r\n",
        "        #### Note that the resulting DataFrame is not assigned back to the original one if we don't indicate df = ...\r\n",
        "\r\n",
        "4.  Plotting data： https://colab.research.google.com/github/acedesci/scanalytics/blob/master/S04_Data_Structures_2/S4_LectureEx_Notebook_with_Code.ipynb#scrollTo=bL9JgvleCFTp\r\n",
        "Plotting methods allow for the default line plot a handful of plot styles. These methods can be provided as the kind keyword argument to plot(), and include:\r\n",
        "\r\n",
        "‘bar’ or ‘barh’ for bar plots\r\n",
        "\r\n",
        "‘hist’ for histogram\r\n",
        "\r\n",
        "‘box’ for boxplot\r\n",
        "\r\n",
        "‘kde’ or ‘density’ for density plots\r\n",
        "\r\n",
        "‘area’ for area plots\r\n",
        "\r\n",
        "‘scatter’ for scatter plots\r\n",
        "\r\n",
        "‘hexbin’ for hexagonal bin plots\r\n",
        "\r\n",
        "‘pie’ for pie plots\r\n",
        "\r\n",
        "如何提取行&列\r\n",
        "single_prod_df = df.loc[(df.UPC == 1111085319)][['UNITS', 'VISITS', 'WEEK_END_DATE']]\r\n",
        "single_prod_df = single_prod_df.set_index('WEEK_END_DATE')\r\n",
        "single_prod_df.plot()"
      ]
    },
    {
      "cell_type": "markdown",
      "metadata": {
        "id": "dHlJEUIU_8FB"
      },
      "source": [
        "**A. Pandas**\r\n",
        "\r\n",
        "1.  如何**复制**一个copy dataframe : \r\n",
        "df_SC = df_SC[selected_columns].copy() \r\n",
        "df.copy()  # we make a copy of this to avoid any issue\r\n",
        "*** Same thing for the List : l2=l1[:] or l2=l1.copy()\r\n",
        "2.   df.columns.str.replace(\"_\",\"\")  用后替换前\r\n",
        "\r\n",
        "2.   df.dtypes : 不用括号show the type of data in our DataFrame, object means string or mixed ; int; float ; datetime 如果日期type不对记得更改\r\n",
        "2.   Transform [date] and [numerical] data **pandas.to_datetime/to_numeric()** # errors=\"coerce\" 可以将无法正确转换的直接写为NaN\r\n",
        "3.   查看**missing** df.isna().sum().sum()\r\n",
        "\r\n",
        "     原理：df[['NewColumn']].isnull() # the new column return True，当我们计算sum 将会计算有多少个true  \r\n",
        "     \r\n",
        "     将某一列null值提取出来df_SC['line_item_insurance_usd'].isna() == True\r\n",
        "     \r\n",
        "    替换NaN ==> Replacing missing values with 0 : \r\n",
        "    df_crops.fillna(0, inplace=True)  \r\n",
        "\r\n",
        "只改某一列：df_SC.fillna(value={'col1': 'missing'}, inplace=True)\r\n",
        "\r\n",
        "    Remove rows with NaN (Hint: you can use df = df.dropna(axis='rows')\r\n",
        "\r\n",
        "4.   筛选行： df[(cond1)&（(cond2)|(cond2）)]  OR df.loc[cond1 & cond2]\r\n",
        "\r\n",
        "     筛选列： df[[\"a\",\"b\"]]  <==返回Dataframe； 如果 df.col1/df[\"col\"]==> 返回series结果\r\n",
        "\r\n",
        "     两个一起筛选df[['col1','col2']][df['col2'].isna() == True]\r\n",
        "5.   df.groupby(...).agg(...) allows us to aggregate each column differently\r\n",
        "    \r\n",
        "     df.groupby([\"\",\"\"]).col.mean()\r\n",
        "\r\n",
        "     df.groupby([\"salesorder_id\"])[[\"line_total\"]].sum()\r\n",
        "\r\n",
        "6.   Min-max normalization and Z-score normalization\r\n",
        "\r\n",
        "7.   如何在DF中加入一列 # we now modify the ID a bit and put in the format of 'SKU0000'\r\n",
        "codes = [\"SKU\"+'{:04d}'.format(i) for i in codes] # ListComprehension 制造出一列\r\n",
        "\r\n",
        "df_SC.insert(6,'item_id',codes)  #将codes 插入进DF中第6列 命名id\r\n",
        "\r\n",
        "如何删除一列： df_WT = df_WT.drop(columns='>26-30_weeks')   \r\n",
        "\r\n",
        "\r\n",
        "\r\n",
        "\r\n"
      ]
    },
    {
      "cell_type": "code",
      "metadata": {
        "colab": {
          "base_uri": "https://localhost:8080/"
        },
        "id": "wb1C2Sv6_1MK",
        "outputId": "e07db03a-951a-43f4-9882-1e580077aa23"
      },
      "source": [
        "import pandas as pd\r\n",
        "url = 'https://raw.githubusercontent.com/acedesci/scanalytics/master/S05_Data_Preprocessing/Supply_Chain_Shipment_Pricing_Data.csv'\r\n",
        "df_SC = pd.read_csv(url)  # reading data file into a DataFrame\r\n",
        "\r\n",
        "# 1.replace\r\n",
        "df_SC.columns = df_SC.columns.str.replace(' ', '_')\r\n",
        "df_SC.columns = df_SC.columns.str.replace('(', '')\r\n",
        "df_SC.columns = df_SC.columns.str.replace(')', '')\r\n",
        "df_SC.columns = df_SC.columns.str.replace('#', ''\r\n",
        ")\r\n",
        "df_SC.columns = df_SC.columns.str.replace('/', '')\r\n",
        "\r\n",
        "# 2.Transform data type\r\n",
        "df_SC['pq_first_sent_to_client_date'] = pd.to_datetime(df_SC['pq_first_sent_to_client_date'], errors='coerce')\r\n",
        "df_SC['scheduled_delivery_date'] = pd.to_datetime(df_SC['scheduled_delivery_date'], errors='coerce')\r\n",
        "df_SC['delivered_to_client_date'] = pd.to_datetime(df_SC['delivered_to_client_date'], errors='coerce')\r\n",
        "df_SC['weight_kilograms'] = pd.to_numeric(df_SC['weight_kilograms'], errors='coerce')\r\n",
        "df_SC['freight_cost_usd'] = pd.to_numeric(df_SC['freight_cost_usd'], errors='coerce')\r\n",
        "# df1[\"product_id\"]=df1[\"product_id\"].apply(str)\r\n",
        "# 将int转换成str\r\n",
        "\r\n",
        "# 3.查看 missing value\r\n",
        "df_SC.isna().sum()\r\n",
        "df_SC.isna().sum().sum() # 查看总共缺少多少 \r\n",
        "\r\n",
        "# 4.筛选数据 只要不为NaN的数 choose only non-missing data and data after 2010\r\n",
        "df_SC = df_SC[(df_SC['freight_cost_usd'].notna()) & (df_SC['weight_kilograms'].notna()) & (df_SC['delivered_to_client_date'] >= '2010-01-01')]\r\n",
        "selected_columns = ['country', 'line_item_value','weight_kilograms','freight_cost_usd']\r\n",
        "df_SC[selected_columns].isna().sum() #查看筛选cols是否还存在missing \r\n",
        "\r\n",
        "# 5. df.groupby(...).agg(...) allows us to aggregate each column differently\r\n",
        "# df.groupby('UPC_string').UNITS.sum()\r\n",
        "df_SC_selected=df_SC[selected_columns].groupby('country').agg({'line_item_value':'sum','weight_kilograms':'mean','freight_cost_usd':'mean'})\r\n",
        "print(df_SC_selected.head(5))\r\n",
        "\r\n",
        "# 6. Normalization Z-score (i - i.mean)/i.std 加在末尾 自动 加入【格式化列名】\r\n",
        "for col in df_SC_selected.columns:  # for col in ['Production', 'Yield']:\r\n",
        "    df_SC_selected['z_'+col] = (df_SC_selected[col] - df_SC_selected[col].mean())/df_SC_selected[col].std() # add the new z-norm column\r\n",
        "    df_SC_selected[col + '_norm'] = (df_SC_selected[col] - df_SC_selected[col].min())/(df_SC_selected[col].max() - df_SC_selected[col].min())   # add the new normalized column\r\n",
        "print(df_SC_selected.head(5))\r\n",
        "# .describe()\r\n"
      ],
      "execution_count": null,
      "outputs": [
        {
          "output_type": "stream",
          "text": [
            "             line_item_value  weight_kilograms  freight_cost_usd\n",
            "country                                                         \n",
            "Afghanistan          1736.00         44.500000        540.525000\n",
            "Angola             181600.00        362.200000       6166.414000\n",
            "Benin              545480.52       2323.600000      11638.258000\n",
            "Botswana          1303710.71        525.766667       3451.025333\n",
            "Burundi           2277173.52        512.750000       5572.184286\n",
            "             line_item_value  ...  z_freight_cost_usd\n",
            "country                       ...                    \n",
            "Afghanistan          1736.00  ...           -1.250062\n",
            "Angola             181600.00  ...           -0.499511\n",
            "Benin              545480.52  ...            0.230490\n",
            "Botswana          1303710.71  ...           -0.861771\n",
            "Burundi           2277173.52  ...           -0.578787\n",
            "\n",
            "[5 rows x 6 columns]\n"
          ],
          "name": "stdout"
        }
      ]
    },
    {
      "cell_type": "markdown",
      "metadata": {
        "id": "3qmUjfhqGBev"
      },
      "source": [
        "**A. Pandas**\r\n",
        "\r\n",
        "\r\n",
        "1.   df.parse_dates(\"\"):将某列解析为时间索引 ；df.set_index(\"\") 将某列设置为索引,如果不设置，df会自动生成一个索引序列\r\n",
        "1.   List comprehension创建新的 col在dataframe中\r\n",
        "2.   Dataframe 中 df[:3] 打印前三行 0，1，2\r\n",
        " \r\n",
        " df.columns[:3] 提取前三列的名称 Index(['aa', 'bb', 'cc'], dtype='object')\r\n",
        " \r\n",
        " df[ [ \"a\",\"b\",\"c\" ] ] 打印abc列 & item  df[df.columns[:3]]打印前三列\r\n",
        "2.   利用pd.DataFrame() 把groupby的数据转成DF格式\r\n",
        "1.   df可以sort_values(by=\"\",ascending=True/False,inplace=True) # inplace = True 将得到的值计算得到的值覆盖之前的值\r\n",
        "\r\n",
        "\r\n",
        "\r\n",
        "\r\n"
      ]
    },
    {
      "cell_type": "code",
      "metadata": {
        "id": "kwjHeLfPGHeY"
      },
      "source": [
        "url = 'https://raw.githubusercontent.com/acedesci/scanalytics/master/S06_Descriptive_Analytics/salesCerealsOriginal.csv'\r\n",
        "# 1.将该列转化为 datetime\r\n",
        "#  since the value is in `datetime` format. We can obtain it by using the attribute `.month`\r\n",
        "df_cereal = pd.read_csv(url, parse_dates=['WEEK_END_DATE']) \r\n",
        "# 自定义index 是什么\r\n",
        "df_cereal.set_index('WEEK_END_DATE', inplace=True)\r\n",
        "\r\n",
        "# 2.创建新 col 用list comprehension\r\n",
        "df_cereal['UPC_string'] = [\"UPC\"+str(x) for x in df_cereal['UPC']]\r\n",
        "\r\n",
        "# 4-5.pd.DataFrame()转化\r\n",
        "pd.DataFrame(df_cereal.groupby('UPC_string').UNITS.sum())\r\n",
        "# we also sort the values by unit\r\n",
        "agg_units.sort_values(by='UNITS', ascending=False, inplace=True)"
      ],
      "execution_count": null,
      "outputs": []
    },
    {
      "cell_type": "markdown",
      "metadata": {
        "id": "CGmHQw9GT9J0"
      },
      "source": [
        "**A. Pandas**\r\n",
        "1.   df.describe() ： show descriptive statistics of the **numerical data** 理应在查看更改玩type后\r\n",
        "2.  df.dtypes ： 不需要加（）\r\n",
        "3.  df[\"size\"].value_counts() shows a list of unique values and how often they occur in the dataset\r\n",
        "4.  df[\"size\"].unique()shows a list of unique values\r\n",
        "    \r\n",
        "3.  df.columns[:] : 可以筛选col in DF\r\n",
        "\r\n",
        "df_WT.columns ==》 显示index所有的col names\r\n",
        "\r\n",
        "for col in df_WT.columns[-7:]:\r\n",
        "  df_WT[col] = pd.to_numeric(df_WT[col], errors='coerce', downcast='float')\r\n",
        "\r\n",
        "df_WT[df_WT.columns[-7:]] = df_WT[df_WT.columns[-7:]].fillna(0)\r\n",
        "\r\n",
        "4. Compute Values for a new col: \r\n",
        "\r\n",
        "   创建一个新col 结合 原有的col，利用df.loc[i,col] + list comprehension ： \r\n",
        "\r\n",
        "简单版： df['newtip'] = df.tip+1\r\n",
        "\r\n",
        "df_WT['>26-52_weeks'] = [max(df_WT.loc[i,'>26-52_weeks'], df_WT.loc[i,'>26-30_weeks']) for i in df_WT.index]\r\n",
        "\r\n",
        "**df['REBATE_PERC_V2'] = [(df.at[i,'BASE_PRICE'] - df.at[i,'PRICE']) / df.at[i,'BASE_PRICE']  if df.at[i,'FEATURE'] == 1 else 0 for i in df.index]**\r\n",
        "\r\n",
        "和function def一起用：\r\n",
        "bass_df['ft'] = [function(p, q, t) for t in bass_df.index]\r\n",
        "\r\n",
        "\r\n",
        "5. Plot: \r\n",
        "inv_dataframe[[\"Ending_Inv\"]].plot(kind='bar')   # plotting inv levels\r\n",
        "inv_dataframe[[\"Receipt\",\"Ending_Inv\"]].plot(kind='bar', figsize=(15,3))   # plotting inv and receipts and resize the plot\r\n",
        "inv_dataframe[['Ending_Inv']].plot.hist()\r\n"
      ]
    },
    {
      "cell_type": "markdown",
      "metadata": {
        "id": "EehA-X4XeW6e"
      },
      "source": [
        "**B. Seaborn**\r\n",
        "所有可视化examples: https://blog.csdn.net/weixin_41466575/article/details/104343245\r\n",
        "\r\n",
        "具体link： https://colab.research.google.com/github/acedesci/scanalytics/blob/master/S06_Descriptive_Analytics/S06_LectureEx_Data_Visualization.ipynb#scrollTo=9Vr83JSozKuS\r\n",
        "\r\n",
        "1.   Seaborn 一般和matplotlib (plt)一起工作：用plt.figure(figsize=(14, 6)）& plt.title('来setteing')；\r\n",
        "    \r\n",
        "    用sns作图；作图前需要先筛选数据 + 转成DF + sort_values\r\n",
        "2.   可以利用 parameters更改样式\r\n",
        "\r\n",
        "hue: differentiates each line with a different colour shade, huge=\"UPC\" \r\n",
        "\r\n",
        "size: differentiates each line with a different weight (e.g., 1pt, 1/2 pt)\r\n",
        "\r\n",
        "color=\"green\"\r\n",
        "\r\n",
        "style: differentiates each line with a different style (e.g., solid, dashed, dot)\r\n",
        "\r\n",
        "3. sns.**lineplot**(data=df_cereal, x='WEEK_END_DATE', y='UNITS')\r\n",
        "\r\n",
        "   sns.**barplot**(y=agg_units.index, x=agg_units[\"UNITS\"], color = 'grey')\r\n",
        "\r\n",
        "   sns.**scatterplot**(data=df_cereal, x='MARKDOWN', y='UNITS')  # # , hue='FEATURE'）\r\n",
        "\r\n",
        "   sns.**distplot**(a=df_cereal['MARKDOWN']) # DIstribution Plot\r\n",
        "\r\n",
        "   sns.**jointplot()**\r\n",
        "\r\n",
        "   sns.**heatmap**(data=df_cereal_pivot, annot=True, fmt='d', cmap='Oranges')\r\n",
        "** HeatMap 1)data=df_cereal.corr() 计算correlation \r\n",
        "\r\n",
        "           2)普通的 groupby - DF - PivotTable - HeatMap\r\n",
        "\r\n",
        "4.  g=sns....\r\n",
        "\r\n",
        "    *g.set(ylabel = 'Tonnes', xlabel = 'Year')*    \r\n",
        "  \r\n",
        "    setting the label name for each axis * 而不用最初的var的名字\r\n",
        "\r\n",
        "    g.set(xlabel='Hectares', ylabel='Tonnes', title='Area harvested (ha) vs. Production (tonnes)') # setting names to the axes labels \r\n",
        "\r\n",
        "    *plt.legend*(title='Products')   ： 需要hug首先然后modify the default title of the legend\r\n"
      ]
    },
    {
      "cell_type": "code",
      "metadata": {
        "colab": {
          "base_uri": "https://localhost:8080/",
          "height": 297
        },
        "id": "9qWWKAY9eWlE",
        "outputId": "93e4eea3-4bd0-40d8-c976-126d3df2fa2c"
      },
      "source": [
        "import seaborn as sns\r\n",
        "import matplotlib.pyplot as plt\r\n",
        "plt.figure(figsize=(12,4))\r\n",
        "plt.title('Number of units sold and markdown in percentage')\r\n",
        "sns.lineplot(data=df_cereal, x='WEEK_END_DATE', y='UNITS') "
      ],
      "execution_count": null,
      "outputs": [
        {
          "output_type": "execute_result",
          "data": {
            "text/plain": [
              "<matplotlib.axes._subplots.AxesSubplot at 0x7f33d7e84ad0>"
            ]
          },
          "metadata": {
            "tags": []
          },
          "execution_count": 5
        },
        {
          "output_type": "display_data",
          "data": {
            "image/png": "[encoded data removed]",
            "text/plain": [
              "<Figure size 432x288 with 1 Axes>"
            ]
          },
          "metadata": {
            "tags": [],
            "needs_background": "light"
          }
        }
      ]
    },
    {
      "cell_type": "markdown",
      "metadata": {
        "id": "O4PYvpFUruuN"
      },
      "source": [
        "**C. Descriptive Analysis: Clustering** --- （a）Kmeans \r\n",
        "\r\n",
        "1.   首先 normalazation 正则 \r\n",
        "2.   K-Means clutering algorithm ：使用常用的软件包scikit-learn应用。 函数sklearn.cluster.KMeans（...）返回一个提供多个输出的对象。 主要输出是.labels_（请注意，这是该方法提供的特定属性名称），它返回包含所有数据点的群集标签的列表。 为了从数据中学习/确定标签，我们还需要调用.fit（X）来将输入变量X（我们的z得分标准化变量）传递给方法。\r\n",
        "3.   具体link： https://colab.research.google.com/github/acedesci/scanalytics/blob/master/S06_Descriptive_Analytics/S06_LectureEx_Data_Analytics.ipynb#scrollTo=U6TH8BJPQLoj\r\n",
        "\r\n",
        "**C. Clustering** --- （b）Hierarchical clustering 层次聚类\r\n",
        "\r\n",
        "在某些情况下，我们必须创建集群/组的层次结构，而不仅仅是一个级别的集群，以允许不同级别的聚合和分解（例如，产品/客户层次结构）。 聚集聚类是一种常用的方法，可以用来确保聚类的这种层次一致性。\r\n",
        "\r\n",
        "具体link : https://colab.research.google.com/github/acedesci/scanalytics/blob/master/S06_Descriptive_Analytics/S6_AfterClass_Exercises_Solution.ipynb#scrollTo=RbKRRSa2amNI\r\n",
        "\r\n",
        "\r\n",
        "**如何optimal**\r\n",
        "优化了集群内平方和optimizes the within-cluster sum of squares. \r\n",
        "\r\n",
        "Kmeans：Inertia or sum-of-square (SSE) within the cluster: This one measure the compactness of each cluster. \r\n",
        "\r\n",
        "Silhouette value: This one represents how well the clusters are separated from each others .\r\n",
        "\r\n",
        "\r\n",
        "\r\n"
      ]
    },
    {
      "cell_type": "code",
      "metadata": {
        "id": "vi-bHnATsy8d"
      },
      "source": [
        "### start your code here ### \r\n",
        "import sklearn\r\n",
        "from sklearn.cluster import KMeans, AgglomerativeClustering\r\n",
        "\r\n",
        "X = df_SC_selected[z_columns]#选择正则化过的features \r\n",
        "\r\n",
        "kmeans_object = sklearn.cluster.KMeans(n_clusters=3, random_state=0)\r\n",
        "kmeans_object.fit(X) \r\n",
        "df_SC_selected['K3_cluster'] = kmeans_object.labels # 创建新的一列在末尾 显示 分组类别"
      ],
      "execution_count": null,
      "outputs": []
    }
  ]
}